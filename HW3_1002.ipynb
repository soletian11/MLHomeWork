{
 "cells": [
  {
   "cell_type": "code",
   "execution_count": 212,
   "id": "a8fc3f7b",
   "metadata": {},
   "outputs": [],
   "source": [
    "import pandas as pd\n",
    "import numpy as np\n",
    "import matplotlib.pyplot as plt\n",
    "import seaborn as sns"
   ]
  },
  {
   "cell_type": "code",
   "execution_count": 213,
   "id": "a11a1545",
   "metadata": {},
   "outputs": [],
   "source": [
    "data='https://raw.githubusercontent.com/alexeygrigorev/mlbookcamp-code/master/chapter-02-car-price/data.csv'"
   ]
  },
  {
   "cell_type": "code",
   "execution_count": 214,
   "id": "1c1f6a18",
   "metadata": {},
   "outputs": [
    {
     "name": "stdout",
     "output_type": "stream",
     "text": [
      "--2023-10-03 14:57:34--  https://raw.githubusercontent.com/alexeygrigorev/mlbookcamp-code/master/chapter-02-car-price/data.csv\n",
      "Resolving raw.githubusercontent.com (raw.githubusercontent.com)... 185.199.110.133, 185.199.111.133, 185.199.108.133, ...\n",
      "Connecting to raw.githubusercontent.com (raw.githubusercontent.com)|185.199.110.133|:443... connected.\n",
      "HTTP request sent, awaiting response... 200 OK\n",
      "Length: 1475504 (1.4M) [text/plain]\n",
      "Saving to: ‘data.csv’\n",
      "\n",
      "data.csv            100%[===================>]   1.41M  --.-KB/s    in 0.01s   \n",
      "\n",
      "2023-10-03 14:57:34 (98.1 MB/s) - ‘data.csv’ saved [1475504/1475504]\n",
      "\n"
     ]
    }
   ],
   "source": [
    "!rm data.csv*\n",
    "!wget $data"
   ]
  },
  {
   "cell_type": "code",
   "execution_count": 215,
   "id": "12f9f40d",
   "metadata": {},
   "outputs": [
    {
     "data": {
      "text/html": [
       "<div>\n",
       "<style scoped>\n",
       "    .dataframe tbody tr th:only-of-type {\n",
       "        vertical-align: middle;\n",
       "    }\n",
       "\n",
       "    .dataframe tbody tr th {\n",
       "        vertical-align: top;\n",
       "    }\n",
       "\n",
       "    .dataframe thead th {\n",
       "        text-align: right;\n",
       "    }\n",
       "</style>\n",
       "<table border=\"1\" class=\"dataframe\">\n",
       "  <thead>\n",
       "    <tr style=\"text-align: right;\">\n",
       "      <th></th>\n",
       "      <th>Make</th>\n",
       "      <th>Model</th>\n",
       "      <th>Year</th>\n",
       "      <th>Engine Fuel Type</th>\n",
       "      <th>Engine HP</th>\n",
       "      <th>Engine Cylinders</th>\n",
       "      <th>Transmission Type</th>\n",
       "      <th>Driven_Wheels</th>\n",
       "      <th>Number of Doors</th>\n",
       "      <th>Market Category</th>\n",
       "      <th>Vehicle Size</th>\n",
       "      <th>Vehicle Style</th>\n",
       "      <th>highway MPG</th>\n",
       "      <th>city mpg</th>\n",
       "      <th>Popularity</th>\n",
       "      <th>MSRP</th>\n",
       "    </tr>\n",
       "  </thead>\n",
       "  <tbody>\n",
       "    <tr>\n",
       "      <th>0</th>\n",
       "      <td>BMW</td>\n",
       "      <td>1 Series M</td>\n",
       "      <td>2011</td>\n",
       "      <td>premium unleaded (required)</td>\n",
       "      <td>335.0</td>\n",
       "      <td>6.0</td>\n",
       "      <td>MANUAL</td>\n",
       "      <td>rear wheel drive</td>\n",
       "      <td>2.0</td>\n",
       "      <td>Factory Tuner,Luxury,High-Performance</td>\n",
       "      <td>Compact</td>\n",
       "      <td>Coupe</td>\n",
       "      <td>26</td>\n",
       "      <td>19</td>\n",
       "      <td>3916</td>\n",
       "      <td>46135</td>\n",
       "    </tr>\n",
       "    <tr>\n",
       "      <th>1</th>\n",
       "      <td>BMW</td>\n",
       "      <td>1 Series</td>\n",
       "      <td>2011</td>\n",
       "      <td>premium unleaded (required)</td>\n",
       "      <td>300.0</td>\n",
       "      <td>6.0</td>\n",
       "      <td>MANUAL</td>\n",
       "      <td>rear wheel drive</td>\n",
       "      <td>2.0</td>\n",
       "      <td>Luxury,Performance</td>\n",
       "      <td>Compact</td>\n",
       "      <td>Convertible</td>\n",
       "      <td>28</td>\n",
       "      <td>19</td>\n",
       "      <td>3916</td>\n",
       "      <td>40650</td>\n",
       "    </tr>\n",
       "  </tbody>\n",
       "</table>\n",
       "</div>"
      ],
      "text/plain": [
       "  Make       Model  Year             Engine Fuel Type  Engine HP  \\\n",
       "0  BMW  1 Series M  2011  premium unleaded (required)      335.0   \n",
       "1  BMW    1 Series  2011  premium unleaded (required)      300.0   \n",
       "\n",
       "   Engine Cylinders Transmission Type     Driven_Wheels  Number of Doors  \\\n",
       "0               6.0            MANUAL  rear wheel drive              2.0   \n",
       "1               6.0            MANUAL  rear wheel drive              2.0   \n",
       "\n",
       "                         Market Category Vehicle Size Vehicle Style  \\\n",
       "0  Factory Tuner,Luxury,High-Performance      Compact         Coupe   \n",
       "1                     Luxury,Performance      Compact   Convertible   \n",
       "\n",
       "   highway MPG  city mpg  Popularity   MSRP  \n",
       "0           26        19        3916  46135  \n",
       "1           28        19        3916  40650  "
      ]
     },
     "execution_count": 215,
     "metadata": {},
     "output_type": "execute_result"
    }
   ],
   "source": [
    "df=pd.read_csv('data.csv')\n",
    "df.head(2)\n"
   ]
  },
  {
   "cell_type": "markdown",
   "id": "cabb3005",
   "metadata": {},
   "source": [
    "## Data Preparation"
   ]
  },
  {
   "cell_type": "code",
   "execution_count": 216,
   "id": "99de0dfd",
   "metadata": {},
   "outputs": [],
   "source": [
    "df_modified=df.copy()\n",
    "df_modified.columns=df_modified.columns.str.lower().str.replace(' ','_')\n",
    "df_modified=df_modified[['make', 'model', 'year', 'engine_hp',\n",
    "       'engine_cylinders', 'transmission_type',  'vehicle_style',\n",
    "       'highway_mpg', 'city_mpg','msrp']]\n",
    "df_modified.rename(columns = {'msrp':'price'}, inplace = True)\n",
    "df_modified=df_modified.fillna(0)\n",
    "\n"
   ]
  },
  {
   "cell_type": "markdown",
   "id": "980cec48",
   "metadata": {},
   "source": [
    "## Question 1"
   ]
  },
  {
   "cell_type": "code",
   "execution_count": 217,
   "id": "ee322552",
   "metadata": {},
   "outputs": [
    {
     "data": {
      "text/plain": [
       "0    AUTOMATIC\n",
       "dtype: object"
      ]
     },
     "execution_count": 217,
     "metadata": {},
     "output_type": "execute_result"
    }
   ],
   "source": [
    "(df_modified['transmission_type'].mode())"
   ]
  },
  {
   "cell_type": "markdown",
   "id": "4a494ac5",
   "metadata": {},
   "source": [
    "## Question 2"
   ]
  },
  {
   "cell_type": "code",
   "execution_count": 263,
   "id": "bc64c834",
   "metadata": {},
   "outputs": [
    {
     "data": {
      "text/plain": [
       "highway_mpg       city_mpg            0.886829\n",
       "city_mpg          highway_mpg         0.886829\n",
       "engine_hp         engine_cylinders    0.774851\n",
       "engine_cylinders  engine_hp           0.774851\n",
       "engine_hp         highway_mpg        -0.415707\n",
       "highway_mpg       engine_hp          -0.415707\n",
       "engine_hp         city_mpg           -0.424918\n",
       "city_mpg          engine_hp          -0.424918\n",
       "engine_cylinders  city_mpg           -0.587306\n",
       "city_mpg          engine_cylinders   -0.587306\n",
       "engine_cylinders  highway_mpg        -0.614541\n",
       "highway_mpg       engine_cylinders   -0.614541\n",
       "dtype: float64"
      ]
     },
     "execution_count": 263,
     "metadata": {},
     "output_type": "execute_result"
    }
   ],
   "source": [
    "df_corr=df_modified[['engine_hp','engine_cylinders','highway_mpg','city_mpg']].corr()\n",
    "corr_series=df_corr.unstack().sort_values()\n",
    "corr_series.loc[lambda x : x != 1].sort_values(ascending=False)\n"
   ]
  },
  {
   "cell_type": "code",
   "execution_count": 219,
   "id": "c5f34605",
   "metadata": {},
   "outputs": [
    {
     "data": {
      "image/png": "[encoded data removed]",
      "text/plain": [
       "<Figure size 360x360 with 2 Axes>"
      ]
     },
     "metadata": {
      "needs_background": "light"
     },
     "output_type": "display_data"
    }
   ],
   "source": [
    "plt.figure(figsize=(5,5))  \n",
    "sns.heatmap(df_modified[['engine_hp','engine_cylinders','highway_mpg','city_mpg']].corr(),annot=True,linewidths=.5, cmap=\"Blues\")\n",
    "plt.title('Heatmap showing correlations between numerical data')\n",
    "plt.show()"
   ]
  },
  {
   "cell_type": "markdown",
   "id": "924313bc",
   "metadata": {},
   "source": [
    "## Calc Mean and add Avg.Price"
   ]
  },
  {
   "cell_type": "code",
   "execution_count": 220,
   "id": "b9d99cb0",
   "metadata": {},
   "outputs": [
    {
     "data": {
      "text/plain": [
       "40594.737032063116"
      ]
     },
     "execution_count": 220,
     "metadata": {},
     "output_type": "execute_result"
    }
   ],
   "source": [
    "msrp_mean=df_modified['price'].agg('mean')\n",
    "msrp_mean"
   ]
  },
  {
   "cell_type": "code",
   "execution_count": 221,
   "id": "5d82391e",
   "metadata": {},
   "outputs": [],
   "source": [
    "df_modified['above_avg']=df_modified['price'].apply(lambda x: 1 if x> msrp_mean else 0)\n",
    "#del df_modified['above_avg']\n"
   ]
  },
  {
   "cell_type": "markdown",
   "id": "05847a1e",
   "metadata": {},
   "source": [
    "## Split The data 60%/20%/20%"
   ]
  },
  {
   "cell_type": "code",
   "execution_count": 222,
   "id": "9ed257b8",
   "metadata": {},
   "outputs": [],
   "source": [
    "from sklearn.model_selection import train_test_split"
   ]
  },
  {
   "cell_type": "code",
   "execution_count": 223,
   "id": "7d4e04a8",
   "metadata": {},
   "outputs": [],
   "source": [
    "df_train_full,df_test=train_test_split(df_modified, test_size=0.2,random_state=42)\n",
    "df_train,df_val=train_test_split(df_train_full, test_size=0.25,random_state=42)"
   ]
  },
  {
   "cell_type": "code",
   "execution_count": null,
   "id": "915af1c6",
   "metadata": {},
   "outputs": [],
   "source": []
  },
  {
   "cell_type": "code",
   "execution_count": 224,
   "id": "ee079aff",
   "metadata": {},
   "outputs": [
    {
     "data": {
      "text/plain": [
       "(7148, 2383, 2383)"
      ]
     },
     "execution_count": 224,
     "metadata": {},
     "output_type": "execute_result"
    }
   ],
   "source": [
    "len(df_train),len(df_val),len(df_test)"
   ]
  },
  {
   "cell_type": "code",
   "execution_count": 225,
   "id": "52baa194",
   "metadata": {},
   "outputs": [
    {
     "data": {
      "text/plain": [
       "make                  object\n",
       "model                 object\n",
       "year                   int64\n",
       "engine_hp            float64\n",
       "engine_cylinders     float64\n",
       "transmission_type     object\n",
       "vehicle_style         object\n",
       "highway_mpg            int64\n",
       "city_mpg               int64\n",
       "price                  int64\n",
       "above_avg              int64\n",
       "dtype: object"
      ]
     },
     "execution_count": 225,
     "metadata": {},
     "output_type": "execute_result"
    }
   ],
   "source": [
    "df_train.dtypes"
   ]
  },
  {
   "cell_type": "markdown",
   "id": "0f804f2a",
   "metadata": {},
   "source": [
    "## Question 3"
   ]
  },
  {
   "cell_type": "code",
   "execution_count": 226,
   "id": "46a82235",
   "metadata": {},
   "outputs": [],
   "source": [
    "from sklearn.metrics import mutual_info_score"
   ]
  },
  {
   "cell_type": "code",
   "execution_count": 227,
   "id": "e3a70761",
   "metadata": {},
   "outputs": [],
   "source": [
    "def mutual_info_churn_score(series):\n",
    "    return mutual_info_score(series,df_train.above_avg)"
   ]
  },
  {
   "cell_type": "code",
   "execution_count": 228,
   "id": "db61b05d",
   "metadata": {},
   "outputs": [],
   "source": [
    "categorical_cols=list((df_train_full.dtypes[df_train_full.dtypes=='object']).index)\n",
    "categorical_cols\n",
    "numerical_cols=['year', 'engine_hp','engine_cylinders','highway_mpg', 'city_mpg']\n",
    "\n"
   ]
  },
  {
   "cell_type": "code",
   "execution_count": 229,
   "id": "ef8eb241",
   "metadata": {},
   "outputs": [
    {
     "data": {
      "text/plain": [
       "('transmission_type', 0.02)"
      ]
     },
     "execution_count": 229,
     "metadata": {},
     "output_type": "execute_result"
    }
   ],
   "source": [
    "mi=df_train[categorical_cols].apply(mutual_info_churn_score)\n",
    "(round(mi.sort_values(),2).index[0],round(mi.sort_values(),2)[0])"
   ]
  },
  {
   "cell_type": "markdown",
   "id": "17d1efc5",
   "metadata": {},
   "source": [
    "## Question 4"
   ]
  },
  {
   "cell_type": "code",
   "execution_count": 230,
   "id": "de13e6a4",
   "metadata": {},
   "outputs": [],
   "source": [
    "from sklearn.feature_extraction import DictVectorizer\n",
    "from  sklearn.linear_model  import LogisticRegression\n"
   ]
  },
  {
   "cell_type": "code",
   "execution_count": 231,
   "id": "4af8c41f",
   "metadata": {},
   "outputs": [],
   "source": [
    "y_train=df_train.above_avg.values\n",
    "y_test=df_test.above_avg.values\n",
    "y_val=df_val.above_avg.values\n",
    "y_train\n",
    "\n",
    "df_val=df_val.drop(['price','above_avg'],axis=1)\n",
    "df_train=df_train.drop(['price','above_avg'],axis=1)\n",
    "df_test=df_test.drop(['price','above_avg'],axis=1)\n"
   ]
  },
  {
   "cell_type": "markdown",
   "id": "58afba05",
   "metadata": {},
   "source": [
    "### One Hot encoding using DictVectorizer"
   ]
  },
  {
   "cell_type": "code",
   "execution_count": 232,
   "id": "7e7d5ccd",
   "metadata": {},
   "outputs": [],
   "source": [
    "# train_dicts=df_train[categorical_cols+numerical_cols].to_dict(orient='records')\n",
    "# val_dicts=df_val[categorical_cols+numerical_cols].to_dict(orient='records')\n",
    "# test_dicts=df_test[categorical_cols+numerical_cols].to_dict(orient='records')"
   ]
  },
  {
   "cell_type": "code",
   "execution_count": null,
   "id": "4b28738b",
   "metadata": {},
   "outputs": [],
   "source": []
  },
  {
   "cell_type": "code",
   "execution_count": 233,
   "id": "3a6ea390",
   "metadata": {},
   "outputs": [],
   "source": [
    "train_dicts=df_train.to_dict(orient='records')\n",
    "val_dicts=df_val.to_dict(orient='records')\n",
    "test_dicts=df_test.to_dict(orient='records')"
   ]
  },
  {
   "cell_type": "code",
   "execution_count": 234,
   "id": "20c82979",
   "metadata": {},
   "outputs": [
    {
     "data": {
      "text/plain": [
       "DictVectorizer(sparse=False)"
      ]
     },
     "execution_count": 234,
     "metadata": {},
     "output_type": "execute_result"
    }
   ],
   "source": [
    "dv=DictVectorizer(sparse=False)\n",
    "dv.fit(train_dicts)\n",
    "dv.fit(val_dicts)\n",
    "dv.fit(test_dicts)\n"
   ]
  },
  {
   "cell_type": "code",
   "execution_count": 235,
   "id": "ef26e522",
   "metadata": {},
   "outputs": [],
   "source": [
    "X_train=dv.transform(train_dicts)\n",
    "X_val=dv.transform(val_dicts)\n",
    "X_test=dv.transform(test_dicts)"
   ]
  },
  {
   "cell_type": "code",
   "execution_count": 236,
   "id": "239c5d38",
   "metadata": {},
   "outputs": [
    {
     "data": {
      "text/plain": [
       "LogisticRegression(C=10, max_iter=1000, random_state=42, solver='liblinear')"
      ]
     },
     "execution_count": 236,
     "metadata": {},
     "output_type": "execute_result"
    }
   ],
   "source": [
    "model = LogisticRegression(solver='liblinear', C=10, max_iter=1000, random_state=42)\n",
    "model.fit(X_train,y_train)"
   ]
  },
  {
   "cell_type": "code",
   "execution_count": 237,
   "id": "cce4afb1",
   "metadata": {},
   "outputs": [
    {
     "data": {
      "text/plain": [
       "array([[9.98916447e-01, 1.08355274e-03],\n",
       "       [4.89565109e-03, 9.95104349e-01],\n",
       "       [9.99786121e-01, 2.13879452e-04],\n",
       "       ...,\n",
       "       [9.99568290e-01, 4.31710400e-04],\n",
       "       [6.33715667e-03, 9.93662843e-01],\n",
       "       [1.28918062e-02, 9.87108194e-01]])"
      ]
     },
     "execution_count": 237,
     "metadata": {},
     "output_type": "execute_result"
    }
   ],
   "source": [
    "y_pred_val=model.predict_proba(X_val)\n",
    "y_pred_val"
   ]
  },
  {
   "cell_type": "code",
   "execution_count": 264,
   "id": "8e27b6fa",
   "metadata": {},
   "outputs": [
    {
     "name": "stdout",
     "output_type": "stream",
     "text": [
      "Accuracy for Q4 0.94\n"
     ]
    }
   ],
   "source": [
    "from sklearn.metrics import accuracy_score\n",
    "import warnings\n",
    "warnings.filterwarnings(\"ignore\")\n",
    "\n",
    "y_pred_val = model.predict_proba(X_val)[:, 1]\n",
    "original_score = accuracy_score(y_val, y_pred_val >= 0.5)\n",
    "original_score=round(original_score,2)\n",
    "print(f\"Accuracy for Q4 {original_score}\")"
   ]
  },
  {
   "cell_type": "code",
   "execution_count": 240,
   "id": "c4612247",
   "metadata": {
    "scrolled": true
   },
   "outputs": [
    {
     "data": {
      "text/plain": [
       "['year',\n",
       " 'engine_hp',\n",
       " 'engine_cylinders',\n",
       " 'highway_mpg',\n",
       " 'city_mpg',\n",
       " 'make',\n",
       " 'model',\n",
       " 'transmission_type',\n",
       " 'vehicle_style']"
      ]
     },
     "execution_count": 240,
     "metadata": {},
     "output_type": "execute_result"
    }
   ],
   "source": [
    "q5_features=numerical_cols+categorical_cols\n",
    "q5_features"
   ]
  },
  {
   "cell_type": "markdown",
   "id": "fced6a5f",
   "metadata": {},
   "source": [
    "## Question 5"
   ]
  },
  {
   "cell_type": "code",
   "execution_count": 272,
   "id": "80f40c5d",
   "metadata": {},
   "outputs": [],
   "source": [
    "#  df_q5=pd.DataFrame(columns=['feature','original_score','calc_score','score'])\n",
    "def Q5():  \n",
    "    data = []\n",
    "   \n",
    "\n",
    "    for feature  in q5_features:  \n",
    "        features=q5_features.copy() \n",
    "        features.remove(feature)   \n",
    "        train_dicts=df_train[features].to_dict(orient='records')\n",
    "        val_dicts=df_val[features].to_dict(orient='records')       \n",
    "        dv=DictVectorizer(sparse=False)\n",
    "        dv.fit(train_dicts)\n",
    "        dv.fit(val_dicts)\n",
    "        \n",
    "\n",
    "        X_train=dv.transform(train_dicts)\n",
    "        X_val=dv.transform(val_dicts)\n",
    "       \n",
    "        model = LogisticRegression(solver='liblinear', C=10, max_iter=1000, random_state=42)\n",
    "        model.fit(X_train,y_train)   \n",
    "\n",
    "        \n",
    "        y_pred_val = model.predict_proba(X_val)[:, 1]        \n",
    "        score=accuracy_score(y_val, y_pred_val >= 0.5) \n",
    "        data.append({'feature': feature, 'original_score': original_score,\n",
    "                      'score_diff':round(original_score - score,2),'score':score})\n",
    "    df_results = pd.DataFrame(data,index=None)\n",
    "    return (df_results)\n",
    "\n",
    "\n",
    "        \n",
    "      \n",
    "\n",
    "\n",
    "        \n",
    "        \n"
   ]
  },
  {
   "cell_type": "code",
   "execution_count": 273,
   "id": "719c2373",
   "metadata": {},
   "outputs": [
    {
     "data": {
      "text/html": [
       "<div>\n",
       "<style scoped>\n",
       "    .dataframe tbody tr th:only-of-type {\n",
       "        vertical-align: middle;\n",
       "    }\n",
       "\n",
       "    .dataframe tbody tr th {\n",
       "        vertical-align: top;\n",
       "    }\n",
       "\n",
       "    .dataframe thead th {\n",
       "        text-align: right;\n",
       "    }\n",
       "</style>\n",
       "<table border=\"1\" class=\"dataframe\">\n",
       "  <thead>\n",
       "    <tr style=\"text-align: right;\">\n",
       "      <th></th>\n",
       "      <th>feature</th>\n",
       "      <th>original_score</th>\n",
       "      <th>score_diff</th>\n",
       "      <th>score</th>\n",
       "    </tr>\n",
       "  </thead>\n",
       "  <tbody>\n",
       "    <tr>\n",
       "      <th>0</th>\n",
       "      <td>year</td>\n",
       "      <td>0.94</td>\n",
       "      <td>-0.01</td>\n",
       "      <td>0.947125</td>\n",
       "    </tr>\n",
       "    <tr>\n",
       "      <th>5</th>\n",
       "      <td>make</td>\n",
       "      <td>0.94</td>\n",
       "      <td>-0.01</td>\n",
       "      <td>0.948804</td>\n",
       "    </tr>\n",
       "    <tr>\n",
       "      <th>7</th>\n",
       "      <td>transmission_type</td>\n",
       "      <td>0.94</td>\n",
       "      <td>-0.01</td>\n",
       "      <td>0.947965</td>\n",
       "    </tr>\n",
       "    <tr>\n",
       "      <th>2</th>\n",
       "      <td>engine_cylinders</td>\n",
       "      <td>0.94</td>\n",
       "      <td>0.00</td>\n",
       "      <td>0.937054</td>\n",
       "    </tr>\n",
       "    <tr>\n",
       "      <th>3</th>\n",
       "      <td>highway_mpg</td>\n",
       "      <td>0.94</td>\n",
       "      <td>-0.00</td>\n",
       "      <td>0.943349</td>\n",
       "    </tr>\n",
       "    <tr>\n",
       "      <th>8</th>\n",
       "      <td>vehicle_style</td>\n",
       "      <td>0.94</td>\n",
       "      <td>-0.00</td>\n",
       "      <td>0.942090</td>\n",
       "    </tr>\n",
       "    <tr>\n",
       "      <th>4</th>\n",
       "      <td>city_mpg</td>\n",
       "      <td>0.94</td>\n",
       "      <td>0.01</td>\n",
       "      <td>0.933277</td>\n",
       "    </tr>\n",
       "    <tr>\n",
       "      <th>1</th>\n",
       "      <td>engine_hp</td>\n",
       "      <td>0.94</td>\n",
       "      <td>0.02</td>\n",
       "      <td>0.922367</td>\n",
       "    </tr>\n",
       "    <tr>\n",
       "      <th>6</th>\n",
       "      <td>model</td>\n",
       "      <td>0.94</td>\n",
       "      <td>0.02</td>\n",
       "      <td>0.921108</td>\n",
       "    </tr>\n",
       "  </tbody>\n",
       "</table>\n",
       "</div>"
      ],
      "text/plain": [
       "             feature  original_score  score_diff     score\n",
       "0               year            0.94       -0.01  0.947125\n",
       "5               make            0.94       -0.01  0.948804\n",
       "7  transmission_type            0.94       -0.01  0.947965\n",
       "2   engine_cylinders            0.94        0.00  0.937054\n",
       "3        highway_mpg            0.94       -0.00  0.943349\n",
       "8      vehicle_style            0.94       -0.00  0.942090\n",
       "4           city_mpg            0.94        0.01  0.933277\n",
       "1          engine_hp            0.94        0.02  0.922367\n",
       "6              model            0.94        0.02  0.921108"
      ]
     },
     "metadata": {},
     "output_type": "display_data"
    }
   ],
   "source": [
    "from IPython.display import display\n",
    "display(Q5().sort_values(by='score_diff'))\n",
    "# df_modified=info()\n",
    "# df_Q5_results.sort_values(by='score_diff')\n",
    "\n"
   ]
  },
  {
   "cell_type": "markdown",
   "id": "b251266a",
   "metadata": {},
   "source": [
    "## Q6"
   ]
  },
  {
   "cell_type": "code",
   "execution_count": 277,
   "id": "b733cd09",
   "metadata": {},
   "outputs": [],
   "source": [
    "from sklearn.linear_model import LinearRegression\n",
    "from sklearn.linear_model import Ridge\n",
    "from sklearn.feature_extraction import DictVectorizer"
   ]
  },
  {
   "cell_type": "code",
   "execution_count": 284,
   "id": "4d2fd08d",
   "metadata": {},
   "outputs": [],
   "source": [
    "df_train_full,df_test=train_test_split(df_modified, test_size=0.2,random_state=42)\n",
    "df_train,df_val=train_test_split(df_train_full, test_size=0.25,random_state=42)\n",
    "\n",
    "\n",
    "\n",
    "\n",
    "\n",
    "train_dicts=df_train[categorical_cols+numerical_cols].to_dict(orient='records')\n",
    "val_dicts=df_val[categorical_cols+numerical_cols].to_dict(orient='records')\n",
    "test_dicts=df_test[categorical_cols+numerical_cols].to_dict(orient='records')\n",
    "\n",
    "dv=DictVectorizer(sparse=False)\n",
    "dv.fit(train_dicts)\n",
    "dv.fit(val_dicts)\n",
    "dv.fit(test_dicts)\n",
    "\n",
    "X_train=dv.transform(train_dicts)\n",
    "X_val=dv.transform(val_dicts)\n",
    "X_test=dv.transform(test_dicts)\n",
    "\n",
    "y_val=np.log1p(df_val.price.values)\n",
    "y_test=np.log1p(df_test.price.values)\n",
    "y_train=np.log1p(df_train.price.values)\n",
    "\n",
    "del df_val['price']\n",
    "del df_train['price']\n",
    "del df_test['price']\n",
    "\n"
   ]
  },
  {
   "cell_type": "code",
   "execution_count": 282,
   "id": "533aca33",
   "metadata": {},
   "outputs": [],
   "source": [
    "def callRidgeModel(X,y,p_X_val,p_y_val,p_alpha):\n",
    "    model = Ridge(solver='sag',random_state=42,alpha=p_alpha)\n",
    "    model.fit(X, y)\n",
    "    y_pred_val=model.predict(p_X_val)\n",
    "    def rmse(y,y_pred):\n",
    "        #sqaure_err=np.square(y_pred_mean-y_train)\n",
    "        error=y-y_pred\n",
    "        se=error**2\n",
    "        mse=se.mean()\n",
    "        return np.sqrt(mse)\n",
    "    score=rmse(p_y_val, y_pred_val)\n",
    "    return p_alpha,round(score,3)"
   ]
  },
  {
   "cell_type": "code",
   "execution_count": 285,
   "id": "4516a652",
   "metadata": {},
   "outputs": [
    {
     "name": "stdout",
     "output_type": "stream",
     "text": [
      "alpha,score\n",
      "0 0.494\n",
      "\n",
      "\n",
      "0.01 0.494\n",
      "\n",
      "\n",
      "0.1 0.494\n",
      "\n",
      "\n",
      "1 0.494\n",
      "\n",
      "\n",
      "10 0.495\n",
      "\n",
      "\n"
     ]
    }
   ],
   "source": [
    "print(\"alpha,score\")\n",
    "for i in [0, 0.01, 0.1, 1, 10]:    \n",
    "    alpha, score=callRidgeModel(X_train,y_train,X_val,y_val,i)    \n",
    "    print(alpha,score)\n",
    "    print(\"\\n\")"
   ]
  }
 ],
 "metadata": {
  "kernelspec": {
   "display_name": "Python 3 (ipykernel)",
   "language": "python",
   "name": "python3"
  },
  "language_info": {
   "codemirror_mode": {
    "name": "ipython",
    "version": 3
   },
   "file_extension": ".py",
   "mimetype": "text/x-python",
   "name": "python",
   "nbconvert_exporter": "python",
   "pygments_lexer": "ipython3",
   "version": "3.9.7"
  }
 },
 "nbformat": 4,
 "nbformat_minor": 5
}
