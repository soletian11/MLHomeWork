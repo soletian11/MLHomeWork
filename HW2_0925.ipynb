{
 "cells": [
  {
   "cell_type": "code",
   "execution_count": 127,
   "id": "ff1e303d",
   "metadata": {},
   "outputs": [],
   "source": [
    "import pandas as pd\n",
    "import numpy as np\n",
    "import seaborn as sns\n",
    "import matplotlib.pyplot as plt\n",
    "%matplotlib inline"
   ]
  },
  {
   "cell_type": "code",
   "execution_count": 128,
   "id": "9100393c",
   "metadata": {},
   "outputs": [],
   "source": [
    "url='https://raw.githubusercontent.com/alexeygrigorev/datasets/master/housing.csv'"
   ]
  },
  {
   "cell_type": "code",
   "execution_count": 129,
   "id": "9758b879",
   "metadata": {},
   "outputs": [],
   "source": [
    "df=pd.read_csv(url)"
   ]
  },
  {
   "cell_type": "code",
   "execution_count": 130,
   "id": "ad6d0afe",
   "metadata": {},
   "outputs": [],
   "source": [
    "values=['<1H OCEAN','INLAND']\n",
    "\n",
    "df_filtered=df[df['ocean_proximity'].isin(values)]\n",
    "df_filtered = df_filtered[['longitude', 'latitude','housing_median_age','total_rooms','total_bedrooms','population',\n",
    "                           'households','median_income','median_house_value']]"
   ]
  },
  {
   "cell_type": "markdown",
   "id": "0dcf541a",
   "metadata": {},
   "source": [
    "## Q1"
   ]
  },
  {
   "cell_type": "code",
   "execution_count": 131,
   "id": "ed0d7d10",
   "metadata": {},
   "outputs": [
    {
     "name": "stdout",
     "output_type": "stream",
     "text": [
      "Null Values of columns in Data Set are total_bedrooms    157\n",
      "dtype: int64\n"
     ]
    }
   ],
   "source": [
    "## Question 1- Missing Values\n",
    "df_nulls=df_filtered.isnull().sum()\n",
    "print(\"Null Values of columns in Data Set are\",df_nulls[df_nulls>0])\n"
   ]
  },
  {
   "cell_type": "markdown",
   "id": "5026e8a1",
   "metadata": {},
   "source": [
    "## Q2"
   ]
  },
  {
   "cell_type": "code",
   "execution_count": 132,
   "id": "7e1b9863",
   "metadata": {},
   "outputs": [
    {
     "data": {
      "text/plain": [
       "0.5    1195.0\n",
       "Name: population, dtype: float64"
      ]
     },
     "execution_count": 132,
     "metadata": {},
     "output_type": "execute_result"
    }
   ],
   "source": [
    "df_filtered['population'].quantile([ 0.5])"
   ]
  },
  {
   "cell_type": "markdown",
   "id": "63f29a98",
   "metadata": {},
   "source": [
    "## Q3  -Fill with Zeros"
   ]
  },
  {
   "cell_type": "code",
   "execution_count": 158,
   "id": "01028339",
   "metadata": {},
   "outputs": [],
   "source": [
    "#fill NA with Zeros'\n",
    "def Q3(df,na_val,n_shuffle=42):\n",
    "    #Splitting the df a.aka.dataset\n",
    "\n",
    "    total=(len(df))\n",
    "    validate_count=int(total*0.2)\n",
    "    test_count=int(total*0.2)\n",
    "    train_count=total-validate_count-test_count\n",
    "    idx=np.arange(total)\n",
    "    np.random.seed(n_shuffle)\n",
    "    np.random.shuffle(idx)\n",
    "    total,validate_count,test_count,train_count\n",
    "    df_train=df.iloc[idx[:train_count]]\n",
    "    df_validate=df.iloc[idx[train_count:train_count+validate_count]]\n",
    "    df_test=df.iloc[idx[train_count+validate_count:]]\n",
    "    df_train=df_train.reset_index(drop=True)\n",
    "    df_test=df_test.reset_index(drop=True)\n",
    "    df_validate=df_validate.reset_index(drop=True)\n",
    "\n",
    "#downsizing to log values\n",
    "    y_validate=np.log1p(df_validate.median_house_value.values)\n",
    "    y_test=np.log1p(df_test.median_house_value.values)\n",
    "    y_train=np.log1p(df_train.median_house_value.values)\n",
    "\n",
    "    del df_validate['median_house_value']\n",
    "    del df_test['median_house_value']\n",
    "    del df_train['median_house_value']\n",
    "\n",
    "    \n",
    "##Prepare and fill NA's\n",
    "    def prepare_X(df):\n",
    "        print(\"na_val\",na_val)\n",
    "        df=df.copy()\n",
    "        df=df.fillna(na_val)\n",
    "        X=df.values\n",
    "        return X\n",
    "\n",
    "    def  train_linearregression(X,y):\n",
    "        ones=np.ones(X.shape[0])\n",
    "        X=np.column_stack([ones,X])\n",
    "        XT=X.T\n",
    "        XTX=XT.dot(X) \n",
    "        XTX_inv = np.linalg.inv(XTX)    \n",
    "        w=XTX_inv.dot(XT).dot(y)\n",
    "        return w[0],w[1:]\n",
    "\n",
    "    def rmse(y,y_pred):\n",
    "        #sqaure_err=np.square(y_pred_mean-y_train)\n",
    "        error=y-y_pred\n",
    "        se=error**2\n",
    "        mse=se.mean()\n",
    "        return np.sqrt(mse)\n",
    "\n",
    "    X_train=prepare_X(df_train)\n",
    "    X_validate=prepare_X(df_validate)\n",
    "    w0,w1=train_linearregression(X_train,y_train)\n",
    "    y_pred_validate=w0+X_validate.dot(w1)\n",
    "    score=rmse(y_validate, y_pred_validate)\n",
    "    return score\n",
    "\n",
    "\n"
   ]
  },
  {
   "cell_type": "code",
   "execution_count": 161,
   "id": "5356726a",
   "metadata": {},
   "outputs": [
    {
     "name": "stdout",
     "output_type": "stream",
     "text": [
      "na_val 0\n",
      "na_val 0\n",
      "RMSE score  having filled with 0 on NA's 0.34\n"
     ]
    }
   ],
   "source": [
    "# Calling Model and filling NA with 0's\n",
    "rmse_0=Q3(df_filtered,0)\n",
    "\n",
    "print(\"RMSE score  having filled with 0 on NA's\",round(rmse_0,2))\n",
    "\n"
   ]
  },
  {
   "cell_type": "markdown",
   "id": "d951f658",
   "metadata": {},
   "source": [
    "## Q3  -Fill with mean"
   ]
  },
  {
   "cell_type": "code",
   "execution_count": 156,
   "id": "c8d48925",
   "metadata": {},
   "outputs": [
    {
     "name": "stdout",
     "output_type": "stream",
     "text": [
      "RMSE score  having filled with mean on NA's 0.34\n"
     ]
    }
   ],
   "source": [
    "total=(len(df_filtered))\n",
    "validate_count=int(total*0.2)\n",
    "test_count=int(total*0.2)\n",
    "train_count=total-validate_count-test_count\n",
    "idx=np.arange(total)\n",
    "np.random.seed(42)\n",
    "np.random.shuffle(idx)\n",
    "total,validate_count,test_count,train_count\n",
    "df_train=df_filtered.iloc[idx[:train_count]]\n",
    "df_validate=df_filtered.iloc[idx[train_count:train_count+validate_count]]\n",
    "df_test=df_filtered.iloc[idx[train_count+validate_count:]]\n",
    "df_train=df_train.reset_index(drop=True)\n",
    "df_test=df_test.reset_index(drop=True)\n",
    "df_validate=df_validate.reset_index(drop=True)\n",
    "\n",
    "y_validate=np.log1p(df_validate.median_house_value.values)\n",
    "y_test=np.log1p(df_test.median_house_value.values)\n",
    "y_train=np.log1p(df_train.median_house_value.values)\n",
    "\n",
    "del df_validate['median_house_value']\n",
    "del df_test['median_house_value']\n",
    "del df_train['median_house_value']\n",
    "\n",
    "train_mean=df_train.agg(\"mean\").total_bedrooms\n",
    "df_train_mean=df_train.fillna(train_mean)\n",
    "df_validate_mean=df_validate.fillna(train_mean)\n",
    "X=df_train_mean.values\n",
    "X_validate=df_validate_mean.values\n",
    "\n",
    "\n",
    "\n",
    "\n",
    "\n",
    "def  train_linearregression(X,y):\n",
    "    ones=np.ones(X.shape[0])\n",
    "    X=np.column_stack([ones,X])\n",
    "    XT=X.T\n",
    "    XTX=XT.dot(X) \n",
    "    XTX_inv = np.linalg.inv(XTX)    \n",
    "    w=XTX_inv.dot(XT).dot(y)\n",
    "    return w[0],w[1:]\n",
    "\n",
    "def rmse(y,y_pred):\n",
    "    #sqaure_err=np.square(y_pred_mean-y_train)\n",
    "    error=y-y_pred\n",
    "    se=error**2\n",
    "    mse=se.mean()\n",
    "    return np.sqrt(mse)\n",
    "\n",
    "w0,w1=train_linearregression(X_mean,y_train)\n",
    "y_pred_validate=w0+X_validate.dot(w1)\n",
    "score=rmse(y_validate, y_pred_validate)\n",
    "print(\"RMSE score  having filled with mean on NA's\",round(score,2))\n",
    "\n",
    "\n",
    "\n",
    "\n",
    "\n"
   ]
  },
  {
   "cell_type": "markdown",
   "id": "f385c74a",
   "metadata": {},
   "source": [
    "## Q4\n"
   ]
  },
  {
   "cell_type": "code",
   "execution_count": 176,
   "id": "3acd3818",
   "metadata": {},
   "outputs": [],
   "source": [
    "#fill NA with Zeros'\n",
    "def Q4(df,na_val,n_shuffle=42):\n",
    "    #Splitting the df a.aka.dataset\n",
    "\n",
    "    total=(len(df))\n",
    "    validate_count=int(total*0.2)\n",
    "    test_count=int(total*0.2)\n",
    "    train_count=total-validate_count-test_count\n",
    "    idx=np.arange(total)\n",
    "    np.random.seed(n_shuffle)\n",
    "    np.random.shuffle(idx)\n",
    "    total,validate_count,test_count,train_count\n",
    "    df_train=df.iloc[idx[:train_count]]\n",
    "    df_validate=df.iloc[idx[train_count:train_count+validate_count]]\n",
    "    df_test=df.iloc[idx[train_count+validate_count:]]\n",
    "    df_train=df_train.reset_index(drop=True)\n",
    "    df_test=df_test.reset_index(drop=True)\n",
    "    df_validate=df_validate.reset_index(drop=True)\n",
    "\n",
    "#downsizing to log values\n",
    "    y_validate=np.log1p(df_validate.median_house_value.values)\n",
    "    y_test=np.log1p(df_test.median_house_value.values)\n",
    "    y_train=np.log1p(df_train.median_house_value.values)\n",
    "\n",
    "    del df_validate['median_house_value']\n",
    "    del df_test['median_house_value']\n",
    "    del df_train['median_house_value']\n",
    "\n",
    "    \n",
    "##Prepare and fill NA's\n",
    "    def prepare_X(df):\n",
    "        df=df.copy()\n",
    "        df=df.fillna(na_val)\n",
    "        X=df.values\n",
    "        return X\n",
    "    def  train_linearregression_reg(X,y,r=0.001):\n",
    "        ones=np.ones(X.shape[0])\n",
    "        X=np.column_stack([ones,X])\n",
    "        XT=X.T\n",
    "        XTX=XT.dot(X) \n",
    "        XTX=XTX+r*np.eye(XTX.shape[0])\n",
    "        XTX_inv = np.linalg.inv(XTX)    \n",
    "        w=XTX_inv.dot(XT).dot(y)\n",
    "        #print(w)\n",
    "        return w[0],w[1:]\n",
    "\n",
    "    def rmse(y,y_pred):\n",
    "        #sqaure_err=np.square(y_pred_mean-y_train)\n",
    "        error=y-y_pred\n",
    "        se=error**2\n",
    "        mse=se.mean()\n",
    "        return np.sqrt(mse)\n",
    "    for r in [0, 0.000001, 0.0001, 0.001, 0.01, 0.1, 1, 5, 1000]:\n",
    "        X_train=prepare_X(df_train)\n",
    "        w0,w1=train_linearregression_reg(X_train,y_train,r=r)\n",
    "        X_validate=prepare_X(df_validate)    \n",
    "        y_pred_validate=w0+X_validate.dot(w1)\n",
    "        score=rmse(y_validate,y_pred_validate)\n",
    "        print(f\"Value of r is {r},\\t Value of W0 is {w0} \\t value of score is {round(score,2)}\")\n",
    "\n",
    "   \n",
    "\n",
    "\n",
    "    "
   ]
  },
  {
   "cell_type": "code",
   "execution_count": 177,
   "id": "ac697b9f",
   "metadata": {},
   "outputs": [
    {
     "name": "stdout",
     "output_type": "stream",
     "text": [
      "Value of r is 0,\t Value of W0 is -9.763249477769088 \t value of score is 0.34\n",
      "Value of r is 1e-06,\t Value of W0 is -9.763228830871164 \t value of score is 0.34\n",
      "Value of r is 0.0001,\t Value of W0 is -9.761185236073864 \t value of score is 0.34\n",
      "Value of r is 0.001,\t Value of W0 is -9.742646249816381 \t value of score is 0.34\n",
      "Value of r is 0.01,\t Value of W0 is -9.561056193388234 \t value of score is 0.34\n",
      "Value of r is 0.1,\t Value of W0 is -8.05888976960648 \t value of score is 0.34\n",
      "Value of r is 1,\t Value of W0 is -3.133154278461813 \t value of score is 0.34\n",
      "Value of r is 5,\t Value of W0 is -0.841086797513227 \t value of score is 0.35\n",
      "Value of r is 1000,\t Value of W0 is -0.0017319220728337853 \t value of score is 0.35\n"
     ]
    }
   ],
   "source": [
    "rmse_0=Q4(df_filtered,0)\n",
    "\n",
    "\n"
   ]
  },
  {
   "cell_type": "code",
   "execution_count": 163,
   "id": "75c02268",
   "metadata": {},
   "outputs": [
    {
     "ename": "NameError",
     "evalue": "name 'prepare_X' is not defined",
     "output_type": "error",
     "traceback": [
      "\u001b[0;31m---------------------------------------------------------------------------\u001b[0m",
      "\u001b[0;31mNameError\u001b[0m                                 Traceback (most recent call last)",
      "\u001b[0;32m/tmp/ipykernel_33550/936238982.py\u001b[0m in \u001b[0;36m<module>\u001b[0;34m\u001b[0m\n\u001b[1;32m      1\u001b[0m \u001b[0;32mfor\u001b[0m \u001b[0mr\u001b[0m \u001b[0;32min\u001b[0m \u001b[0;34m[\u001b[0m\u001b[0;36m0\u001b[0m\u001b[0;34m,\u001b[0m \u001b[0;36m0.000001\u001b[0m\u001b[0;34m,\u001b[0m \u001b[0;36m0.0001\u001b[0m\u001b[0;34m,\u001b[0m \u001b[0;36m0.001\u001b[0m\u001b[0;34m,\u001b[0m \u001b[0;36m0.01\u001b[0m\u001b[0;34m,\u001b[0m \u001b[0;36m0.1\u001b[0m\u001b[0;34m,\u001b[0m \u001b[0;36m1\u001b[0m\u001b[0;34m,\u001b[0m \u001b[0;36m5\u001b[0m\u001b[0;34m,\u001b[0m \u001b[0;36m1000\u001b[0m\u001b[0;34m]\u001b[0m\u001b[0;34m:\u001b[0m\u001b[0;34m\u001b[0m\u001b[0;34m\u001b[0m\u001b[0m\n\u001b[0;32m----> 2\u001b[0;31m     \u001b[0mX_train\u001b[0m\u001b[0;34m=\u001b[0m\u001b[0mprepare_X\u001b[0m\u001b[0;34m(\u001b[0m\u001b[0mdf_train\u001b[0m\u001b[0;34m)\u001b[0m\u001b[0;34m\u001b[0m\u001b[0;34m\u001b[0m\u001b[0m\n\u001b[0m\u001b[1;32m      3\u001b[0m     \u001b[0mw0\u001b[0m\u001b[0;34m,\u001b[0m\u001b[0mw1\u001b[0m\u001b[0;34m=\u001b[0m\u001b[0mtrain_linearregression_reg\u001b[0m\u001b[0;34m(\u001b[0m\u001b[0mX_train\u001b[0m\u001b[0;34m,\u001b[0m\u001b[0my_train\u001b[0m\u001b[0;34m,\u001b[0m\u001b[0mr\u001b[0m\u001b[0;34m=\u001b[0m\u001b[0mr\u001b[0m\u001b[0;34m)\u001b[0m\u001b[0;34m\u001b[0m\u001b[0;34m\u001b[0m\u001b[0m\n\u001b[1;32m      4\u001b[0m     \u001b[0mX_validate\u001b[0m\u001b[0;34m=\u001b[0m\u001b[0mprepare_X\u001b[0m\u001b[0;34m(\u001b[0m\u001b[0mdf_validate\u001b[0m\u001b[0;34m)\u001b[0m\u001b[0;34m\u001b[0m\u001b[0;34m\u001b[0m\u001b[0m\n\u001b[1;32m      5\u001b[0m     \u001b[0my_pred_validate\u001b[0m\u001b[0;34m=\u001b[0m\u001b[0mw0\u001b[0m\u001b[0;34m+\u001b[0m\u001b[0mX_validate\u001b[0m\u001b[0;34m.\u001b[0m\u001b[0mdot\u001b[0m\u001b[0;34m(\u001b[0m\u001b[0mw1\u001b[0m\u001b[0;34m)\u001b[0m\u001b[0;34m\u001b[0m\u001b[0;34m\u001b[0m\u001b[0m\n",
      "\u001b[0;31mNameError\u001b[0m: name 'prepare_X' is not defined"
     ]
    }
   ],
   "source": [
    "\n"
   ]
  },
  {
   "cell_type": "markdown",
   "id": "a711955f",
   "metadata": {},
   "source": [
    "## Q5"
   ]
  },
  {
   "cell_type": "code",
   "execution_count": 137,
   "id": "862f71aa",
   "metadata": {},
   "outputs": [],
   "source": [
    "# Get Counts on Df\n",
    "def  apply_ml_lr_model(df,n_shuffle):\n",
    "    total=(len(df))\n",
    "    validate_count=int(total*0.2)\n",
    "    test_count=int(total*0.2)\n",
    "    train_count=total-validate_count-test_count\n",
    "    idx=np.arange(total)\n",
    "    np.random.seed(n_shuffle)\n",
    "    np.random.shuffle(idx)\n",
    "    total,validate_count,test_count,train_count\n",
    "\n",
    "    df_train=df.iloc[idx[:train_count]]\n",
    "    df_validate=df.iloc[idx[train_count:train_count+validate_count]]\n",
    "    df_test=df.iloc[idx[train_count+validate_count:]]\n",
    "    df_train=df_train.reset_index(drop=True)\n",
    "    df_test=df_test.reset_index(drop=True)\n",
    "    df_validate=df_validate.reset_index(drop=True)\n",
    "\n",
    "#downsizing values\n",
    "    y_validate=np.log1p(df_validate.median_house_value.values)\n",
    "    y_test=np.log1p(df_test.median_house_value.values)\n",
    "    y_train=np.log1p(df_train.median_house_value.values)\n",
    "\n",
    "    del df_validate['median_house_value']\n",
    "    del df_test['median_house_value']\n",
    "    del df_train['median_house_value']\n",
    "\n",
    "    def  train_linearregression(X,y):\n",
    "        ones=np.ones(X.shape[0])\n",
    "        X=np.column_stack([ones,X])\n",
    "        XT=X.T\n",
    "        XTX=XT.dot(X) \n",
    "        XTX_inv = np.linalg.inv(XTX)    \n",
    "        w=XTX_inv.dot(XT).dot(y)\n",
    "        return w[0],w[1:]\n",
    "   \n",
    "    def rmse(y,y_pred):\n",
    "    #sqaure_err=np.square(y_pred_mean-y_train)\n",
    "        error=y-y_pred\n",
    "        se=error**2\n",
    "        mse=se.mean()\n",
    "        return np.sqrt(mse)\n",
    "\n",
    "    def prepare_X(df):\n",
    "        df=df.fillna(0)\n",
    "        X=df.values\n",
    "        return X\n",
    "    X_train=prepare_X(df_train)\n",
    "    w0,w1=train_linearregression(X_train,y_train)\n",
    "    X_validate=prepare_X(df_validate)\n",
    "    y_pred_validate=w0+X_validate.dot(w1)\n",
    "    score=rmse(y_validate,y_pred_validate)\n",
    "    return  score\n"
   ]
  },
  {
   "cell_type": "code",
   "execution_count": 138,
   "id": "ed3e9a5b",
   "metadata": {},
   "outputs": [],
   "source": [
    " rm_score=[ apply_ml_lr_model(df_filtered,n) for n in [0, 1, 2, 3, 4, 5, 6, 7, 8, 9]]"
   ]
  },
  {
   "cell_type": "code",
   "execution_count": 139,
   "id": "f50bdd19",
   "metadata": {},
   "outputs": [
    {
     "data": {
      "text/plain": [
       "0.005"
      ]
     },
     "execution_count": 139,
     "metadata": {},
     "output_type": "execute_result"
    }
   ],
   "source": [
    "round(np.array(rm_score).std(),3)"
   ]
  },
  {
   "cell_type": "markdown",
   "id": "c7556bc2",
   "metadata": {},
   "source": [
    "## Q6"
   ]
  },
  {
   "cell_type": "code",
   "execution_count": 143,
   "id": "fd83d5a5",
   "metadata": {},
   "outputs": [],
   "source": [
    "def  apply_ml_lr_regualarization_model(df,n_shuffle):\n",
    "    total=(len(df))\n",
    "    validate_count=int(total*0.2)\n",
    "    test_count=int(total*0.2)\n",
    "    train_count=total-validate_count-test_count\n",
    "    idx=np.arange(total)\n",
    "    np.random.seed(n_shuffle)\n",
    "    np.random.shuffle(idx)\n",
    "    total,validate_count,test_count,train_count\n",
    "\n",
    "    df_train=df.iloc[idx[:train_count]]\n",
    "    df_validate=df.iloc[idx[train_count:train_count+validate_count]]\n",
    "    df_test=df.iloc[idx[train_count+validate_count:]]\n",
    "    df_train=df_train.reset_index(drop=True)\n",
    "    df_test=df_test.reset_index(drop=True)\n",
    "    df_validate=df_validate.reset_index(drop=True)\n",
    "    df_combined_list=[df_train,df_validate]  \n",
    "    df_combined=pd.concat(df_combined_list)\n",
    "    \n",
    "    \n",
    "\n",
    "#downsizing values\n",
    "    y_validate=np.log1p(df_validate.median_house_value.values)\n",
    "    y_test=np.log1p(df_test.median_house_value.values)\n",
    "    y_train=np.log1p(df_train.median_house_value.values)\n",
    "    y_combined=np.log1p(df_combined.median_house_value.values)\n",
    "    \n",
    "\n",
    "    del df_validate['median_house_value']\n",
    "    del df_test['median_house_value']\n",
    "    del df_train['median_house_value']\n",
    "    del df_combined['median_house_value']\n",
    "    \n",
    "    \n",
    "    \n",
    "\n",
    "    def  train_linearregression_reg(X,y,r=0.001):\n",
    "        ones=np.ones(X.shape[0])\n",
    "        X=np.column_stack([ones,X])\n",
    "        XT=X.T\n",
    "        XTX=XT.dot(X) \n",
    "        XTX=XTX+r*np.eye(XTX.shape[0])\n",
    "        XTX_inv = np.linalg.inv(XTX)    \n",
    "        w=XTX_inv.dot(XT).dot(y)\n",
    "        #print(w)\n",
    "        return w[0],w[1:]\n",
    "   \n",
    "    def rmse(y,y_pred):\n",
    "    #sqaure_err=np.square(y_pred_mean-y_train)\n",
    "        error=y-y_pred\n",
    "        se=error**2\n",
    "        mse=se.mean()\n",
    "        return np.sqrt(mse)\n",
    "\n",
    "    def prepare_X(df):\n",
    "        df=df.fillna(0)\n",
    "        X=df.values\n",
    "        return X\n",
    "    X_combined=prepare_X(df_combined)\n",
    "    w0,w1=train_linearregression_reg(X_combined,y_combined)\n",
    "    X_test=prepare_X(df_test)\n",
    "    y_pred_test=w0+X_test.dot(w1)\n",
    "    score=rmse(y_test,y_pred_test)\n",
    "    return  score"
   ]
  },
  {
   "cell_type": "code",
   "execution_count": 141,
   "id": "a6b6dca8",
   "metadata": {},
   "outputs": [
    {
     "data": {
      "text/plain": [
       "0.3349899336608707"
      ]
     },
     "execution_count": 141,
     "metadata": {},
     "output_type": "execute_result"
    }
   ],
   "source": [
    "rm=apply_ml_lr_regualarization_model(df_filtered,9)\n",
    "rm"
   ]
  }
 ],
 "metadata": {
  "kernelspec": {
   "display_name": "Python 3 (ipykernel)",
   "language": "python",
   "name": "python3"
  },
  "language_info": {
   "codemirror_mode": {
    "name": "ipython",
    "version": 3
   },
   "file_extension": ".py",
   "mimetype": "text/x-python",
   "name": "python",
   "nbconvert_exporter": "python",
   "pygments_lexer": "ipython3",
   "version": "3.9.7"
  }
 },
 "nbformat": 4,
 "nbformat_minor": 5
}
