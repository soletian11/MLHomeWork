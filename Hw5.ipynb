{
 "cells": [
  {
   "cell_type": "markdown",
   "id": "7b50c6af",
   "metadata": {},
   "source": [
    "## Question1 pipenv version"
   ]
  },
  {
   "cell_type": "code",
   "execution_count": 1,
   "id": "593ab32a",
   "metadata": {},
   "outputs": [
    {
     "name": "stdout",
     "output_type": "stream",
     "text": [
      "\u001b[1mpipenv\u001b[0m, version 2023.10.3\r\n"
     ]
    }
   ],
   "source": [
    "!pipenv --version"
   ]
  },
  {
   "cell_type": "markdown",
   "id": "a3dec43e",
   "metadata": {},
   "source": [
    "## Question 2 Sckit Learn Hash Key\n"
   ]
  },
  {
   "cell_type": "code",
   "execution_count": null,
   "id": "f84c9409",
   "metadata": {},
   "outputs": [],
   "source": [
    "\"sha256:0c275a06c5190c5ce00af0acbb61c06374087949f643ef32d355ece12c4db043\""
   ]
  },
  {
   "cell_type": "markdown",
   "id": "3e09b072",
   "metadata": {},
   "source": [
    "## Question 3 "
   ]
  },
  {
   "cell_type": "code",
   "execution_count": 4,
   "id": "5b8e54c6",
   "metadata": {},
   "outputs": [
    {
     "name": "stdout",
     "output_type": "stream",
     "text": [
      "/home/ubuntu/homework1015\r\n"
     ]
    }
   ],
   "source": [
    "!pwd"
   ]
  },
  {
   "cell_type": "code",
   "execution_count": 5,
   "id": "2a97818b",
   "metadata": {},
   "outputs": [
    {
     "name": "stdout",
     "output_type": "stream",
     "text": [
      "Dockerfile    Q4.ipynb\t      dv.bin   model1.bin\r\n",
      "Pipfile       Untitled.ipynb  hw53.py  score.py\r\n",
      "Pipfile.lock  __pycache__     hw54.py  test_dock_result.py\r\n"
     ]
    }
   ],
   "source": [
    "!ls"
   ]
  },
  {
   "cell_type": "code",
   "execution_count": 24,
   "id": "d3da1b66",
   "metadata": {},
   "outputs": [
    {
     "name": "stdout",
     "output_type": "stream",
     "text": [
      "/home/ubuntu/anaconda3/lib/python3.9/site-packages/sklearn/base.py:310: UserWarning: Trying to unpickle estimator LogisticRegression from version 1.3.1 when using version 0.24.2. This might lead to breaking code or invalid results. Use at your own risk.\r\n",
      "  warnings.warn(\r\n",
      "/home/ubuntu/anaconda3/lib/python3.9/site-packages/sklearn/base.py:310: UserWarning: Trying to unpickle estimator DictVectorizer from version 1.3.1 when using version 0.24.2. This might lead to breaking code or invalid results. Use at your own risk.\r\n",
      "  warnings.warn(\r\n",
      "0.9019309332297606\r\n"
     ]
    }
   ],
   "source": [
    "!python hw53.py"
   ]
  },
  {
   "cell_type": "markdown",
   "id": "d5bc56e9",
   "metadata": {},
   "source": [
    "## Question 4 :"
   ]
  },
  {
   "cell_type": "code",
   "execution_count": null,
   "id": "542194db",
   "metadata": {},
   "outputs": [],
   "source": [
    "!ls"
   ]
  },
  {
   "cell_type": "code",
   "execution_count": 10,
   "id": "a11fd33a",
   "metadata": {},
   "outputs": [],
   "source": [
    "import requests\n",
    "url = \"http://localhost:9697/score\"\n"
   ]
  },
  {
   "cell_type": "code",
   "execution_count": 11,
   "id": "be7ef5da",
   "metadata": {},
   "outputs": [
    {
     "data": {
      "text/plain": [
       "{'score': 0.13968947052356817}"
      ]
     },
     "execution_count": 11,
     "metadata": {},
     "output_type": "execute_result"
    }
   ],
   "source": [
    "client = {\"job\": \"unknown\", \"duration\": 270, \"poutcome\": \"failure\"}\n",
    "requests.post(url, json=client).json()"
   ]
  },
  {
   "cell_type": "code",
   "execution_count": 12,
   "id": "10296bef",
   "metadata": {},
   "outputs": [
    {
     "data": {
      "text/plain": [
       "{'score': 0.9019309332297606}"
      ]
     },
     "execution_count": 12,
     "metadata": {},
     "output_type": "execute_result"
    }
   ],
   "source": [
    "client = {\"job\": \"retired\", \"duration\": 445, \"poutcome\": \"success\"}\n",
    "requests.post(url, json=client).json()"
   ]
  },
  {
   "cell_type": "markdown",
   "id": "f9c00182",
   "metadata": {},
   "source": [
    "## Question 5"
   ]
  },
  {
   "cell_type": "code",
   "execution_count": 20,
   "id": "5b25fe19",
   "metadata": {},
   "outputs": [
    {
     "name": "stdout",
     "output_type": "stream",
     "text": [
      "REPOSITORY              TAG            IMAGE ID       CREATED      SIZE\r\n",
      "svizor/zoomcamp-model   3.10.12-slim   08266c8f0c4b   8 days ago   147MB\r\n"
     ]
    }
   ],
   "source": [
    "!docker images svizor/zoomcamp-model"
   ]
  },
  {
   "cell_type": "markdown",
   "id": "fcbd9315",
   "metadata": {},
   "source": [
    "## Question 6"
   ]
  },
  {
   "cell_type": "code",
   "execution_count": 22,
   "id": "923eaa1b",
   "metadata": {},
   "outputs": [
    {
     "name": "stdout",
     "output_type": "stream",
     "text": [
      "REPOSITORY              TAG            IMAGE ID       CREATED             SIZE\r\n",
      "hwrkq1017               latest         27169b3cb186   35 minutes ago      579MB\r\n",
      "<none>                  <none>         2025a5e6c2eb   36 minutes ago      579MB\r\n",
      "hwrkq6                  latest         f3f1a06f6265   About an hour ago   231MB\r\n",
      "<none>                  <none>         6cd5c27d25b7   16 hours ago        231MB\r\n",
      "<none>                  <none>         ed6dab1a957c   16 hours ago        231MB\r\n",
      "svizor/zoomcamp-model   3.10.12-slim   08266c8f0c4b   8 days ago          147MB\r\n",
      "hello-world             latest         9c7a54a9a43c   5 months ago        13.3kB\r\n",
      "python                  3.8.12-slim    513da2530098   19 months ago       122MB\r\n"
     ]
    }
   ],
   "source": [
    "##Docker basked gunicorn \n",
    "!docker images"
   ]
  },
  {
   "cell_type": "code",
   "execution_count": 23,
   "id": "c229adab",
   "metadata": {},
   "outputs": [
    {
     "name": "stdout",
     "output_type": "stream",
     "text": [
      "{'score': 0.9019309332297606}\r\n"
     ]
    }
   ],
   "source": [
    "!python test_dock_result.py"
   ]
  }
 ],
 "metadata": {
  "kernelspec": {
   "display_name": "Python 3 (ipykernel)",
   "language": "python",
   "name": "python3"
  },
  "language_info": {
   "codemirror_mode": {
    "name": "ipython",
    "version": 3
   },
   "file_extension": ".py",
   "mimetype": "text/x-python",
   "name": "python",
   "nbconvert_exporter": "python",
   "pygments_lexer": "ipython3",
   "version": "3.9.7"
  }
 },
 "nbformat": 4,
 "nbformat_minor": 5
}
