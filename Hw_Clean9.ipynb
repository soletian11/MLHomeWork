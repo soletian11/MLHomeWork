{
 "cells": [
  {
   "cell_type": "markdown",
   "id": "2d0e0db8-66f0-4842-83da-326c91a25574",
   "metadata": {},
   "source": [
    "## ## Question 1: Size of lite model"
   ]
  },
  {
   "cell_type": "code",
   "execution_count": 18,
   "id": "0abcdc33-cc3a-47ce-8f60-b7f87d64ed7d",
   "metadata": {
    "execution": {
     "iopub.execute_input": "2023-11-29T01:17:44.908820Z",
     "iopub.status.busy": "2023-11-29T01:17:44.908444Z",
     "iopub.status.idle": "2023-11-29T01:17:45.528225Z",
     "shell.execute_reply": "2023-11-29T01:17:45.527373Z",
     "shell.execute_reply.started": "2023-11-29T01:17:44.908797Z"
    },
    "tags": []
   },
   "outputs": [
    {
     "name": "stdout",
     "output_type": "stream",
     "text": [
      "-rw-rw-r-- 1 jovyan jovyan 43M Nov 27 01:08 bees-wasps.tflite\n"
     ]
    }
   ],
   "source": [
    "!ls -lh bees-wasps.tflite"
   ]
  },
  {
   "cell_type": "code",
   "execution_count": 9,
   "id": "1d5339bf-931d-4cd5-8aae-dab7661c1167",
   "metadata": {
    "execution": {
     "iopub.execute_input": "2023-11-29T01:16:29.540024Z",
     "iopub.status.busy": "2023-11-29T01:16:29.539658Z",
     "iopub.status.idle": "2023-11-29T01:16:31.673222Z",
     "shell.execute_reply": "2023-11-29T01:16:31.672403Z",
     "shell.execute_reply.started": "2023-11-29T01:16:29.540002Z"
    },
    "tags": []
   },
   "outputs": [
    {
     "name": "stdout",
     "output_type": "stream",
     "text": [
      "Requirement already satisfied: keras_image_helper in /opt/saturncloud/envs/saturn/lib/python3.9/site-packages (0.0.1)\n",
      "Requirement already satisfied: numpy in /opt/saturncloud/envs/saturn/lib/python3.9/site-packages (from keras_image_helper) (1.26.2)\n",
      "Requirement already satisfied: pillow in /opt/saturncloud/envs/saturn/lib/python3.9/site-packages (from keras_image_helper) (9.4.0)\n"
     ]
    }
   ],
   "source": [
    "#!pip install tflite-runtime\n",
    "!pip install keras_image_helper\n",
    "#!pip install --upgrade numpy"
   ]
  },
  {
   "cell_type": "code",
   "execution_count": 5,
   "id": "5e9687d2-c9bd-41b4-8612-4a93eafb1f5b",
   "metadata": {
    "execution": {
     "iopub.execute_input": "2023-11-29T01:15:33.924375Z",
     "iopub.status.busy": "2023-11-29T01:15:33.923975Z",
     "iopub.status.idle": "2023-11-29T01:15:34.099242Z",
     "shell.execute_reply": "2023-11-29T01:15:34.098618Z",
     "shell.execute_reply.started": "2023-11-29T01:15:33.924344Z"
    },
    "tags": []
   },
   "outputs": [],
   "source": [
    "import tflite_runtime.interpreter as tflite\n",
    "from keras_image_helper import create_preprocessor"
   ]
  },
  {
   "cell_type": "code",
   "execution_count": 14,
   "id": "4e339ce0-4fe2-4732-8f83-62e488b15a40",
   "metadata": {
    "execution": {
     "iopub.execute_input": "2023-11-29T01:17:15.456731Z",
     "iopub.status.busy": "2023-11-29T01:17:15.456331Z",
     "iopub.status.idle": "2023-11-29T01:17:15.501226Z",
     "shell.execute_reply": "2023-11-29T01:17:15.500409Z",
     "shell.execute_reply.started": "2023-11-29T01:17:15.456704Z"
    },
    "tags": []
   },
   "outputs": [],
   "source": [
    "# intrepreter_hw=tflite.Interpreter(model_path='/home/jovyan/workspace/bees-wasps.tflite')\n",
    "intrepreter_hw=tflite.Interpreter(model_path='/home/jovyan/workspace/FilesDump/bees-wasps.tflite')\n",
    "intrepreter_hw.allocate_tensors()\n",
    "inputhw_index=intrepreter_hw.get_input_details()[0]['index']\n",
    "outputhw_index=intrepreter_hw.get_output_details()[0]['index']\n",
    "# intrepreter_hw.set_tensor(inputhw_index,X)\n",
    "# intrepreter_hw.invoke()\n",
    "# preds=intrepreter_hw.get_tensor(outputhw_index)"
   ]
  },
  {
   "cell_type": "markdown",
   "id": "c71663c8-24ce-45de-ac08-61aae06e0db6",
   "metadata": {},
   "source": [
    "## Question 2: Output Index"
   ]
  },
  {
   "cell_type": "code",
   "execution_count": 17,
   "id": "d2573a9b-01c9-4237-9f34-e158a944ced1",
   "metadata": {
    "execution": {
     "iopub.execute_input": "2023-11-29T01:17:22.824095Z",
     "iopub.status.busy": "2023-11-29T01:17:22.823702Z",
     "iopub.status.idle": "2023-11-29T01:17:22.828880Z",
     "shell.execute_reply": "2023-11-29T01:17:22.828062Z",
     "shell.execute_reply.started": "2023-11-29T01:17:22.824072Z"
    },
    "tags": []
   },
   "outputs": [
    {
     "data": {
      "text/plain": [
       "13"
      ]
     },
     "execution_count": 17,
     "metadata": {},
     "output_type": "execute_result"
    }
   ],
   "source": [
    "outputhw_index"
   ]
  },
  {
   "cell_type": "code",
   "execution_count": 7,
   "id": "d81f7c57-3de7-44f4-897c-c2d3f3d539bd",
   "metadata": {
    "execution": {
     "iopub.execute_input": "2023-11-29T01:15:41.111939Z",
     "iopub.status.busy": "2023-11-29T01:15:41.111563Z",
     "iopub.status.idle": "2023-11-29T01:15:41.115547Z",
     "shell.execute_reply": "2023-11-29T01:15:41.114692Z",
     "shell.execute_reply.started": "2023-11-29T01:15:41.111917Z"
    },
    "tags": []
   },
   "outputs": [],
   "source": [
    "preds=intrepreter_hw.get_tensor(outputhw_index)"
   ]
  },
  {
   "cell_type": "code",
   "execution_count": 8,
   "id": "f8f2f9d4-113b-4595-9246-9d11532b4503",
   "metadata": {
    "execution": {
     "iopub.execute_input": "2023-11-29T01:15:44.376470Z",
     "iopub.status.busy": "2023-11-29T01:15:44.376092Z",
     "iopub.status.idle": "2023-11-29T01:15:44.384222Z",
     "shell.execute_reply": "2023-11-29T01:15:44.383476Z",
     "shell.execute_reply.started": "2023-11-29T01:15:44.376448Z"
    },
    "tags": []
   },
   "outputs": [
    {
     "data": {
      "text/plain": [
       "([{'name': 'serving_default_conv2d_input:0',\n",
       "   'index': 0,\n",
       "   'shape': array([  1, 150, 150,   3], dtype=int32),\n",
       "   'shape_signature': array([ -1, 150, 150,   3], dtype=int32),\n",
       "   'dtype': numpy.float32,\n",
       "   'quantization': (0.0, 0),\n",
       "   'quantization_parameters': {'scales': array([], dtype=float32),\n",
       "    'zero_points': array([], dtype=int32),\n",
       "    'quantized_dimension': 0},\n",
       "   'sparsity_parameters': {}}],\n",
       " [{'name': 'StatefulPartitionedCall:0',\n",
       "   'index': 13,\n",
       "   'shape': array([1, 1], dtype=int32),\n",
       "   'shape_signature': array([-1,  1], dtype=int32),\n",
       "   'dtype': numpy.float32,\n",
       "   'quantization': (0.0, 0),\n",
       "   'quantization_parameters': {'scales': array([], dtype=float32),\n",
       "    'zero_points': array([], dtype=int32),\n",
       "    'quantized_dimension': 0},\n",
       "   'sparsity_parameters': {}}])"
      ]
     },
     "execution_count": 8,
     "metadata": {},
     "output_type": "execute_result"
    }
   ],
   "source": [
    " intrepreter_hw.get_input_details(),intrepreter_hw.get_output_details()"
   ]
  },
  {
   "cell_type": "code",
   "execution_count": 23,
   "id": "be79329d-d86c-43de-804b-7e2b5735fb08",
   "metadata": {
    "execution": {
     "iopub.execute_input": "2023-11-29T01:18:31.856805Z",
     "iopub.status.busy": "2023-11-29T01:18:31.856452Z",
     "iopub.status.idle": "2023-11-29T01:18:31.861716Z",
     "shell.execute_reply": "2023-11-29T01:18:31.860980Z",
     "shell.execute_reply.started": "2023-11-29T01:18:31.856781Z"
    },
    "tags": []
   },
   "outputs": [],
   "source": [
    "from io import BytesIO\n",
    "from urllib import request\n",
    "\n",
    "from PIL import Image\n",
    "\n",
    "def download_image(url):\n",
    "    with request.urlopen(url) as resp:\n",
    "        buffer = resp.read()\n",
    "    stream = BytesIO(buffer)\n",
    "    img = Image.open(stream)\n",
    "    return img\n",
    "\n",
    "\n",
    "def prepare_image(img, target_size):\n",
    "    if img.mode != 'RGB':\n",
    "        img = img.convert('RGB')\n",
    "    img = img.resize(target_size, Image.NEAREST)\n",
    "    return img"
   ]
  },
  {
   "cell_type": "code",
   "execution_count": 24,
   "id": "03d3ef08-1595-432c-a848-d021d5cc7589",
   "metadata": {
    "execution": {
     "iopub.execute_input": "2023-11-29T01:18:35.800958Z",
     "iopub.status.busy": "2023-11-29T01:18:35.800578Z",
     "iopub.status.idle": "2023-11-29T01:18:36.874965Z",
     "shell.execute_reply": "2023-11-29T01:18:36.874339Z",
     "shell.execute_reply.started": "2023-11-29T01:18:35.800935Z"
    },
    "tags": []
   },
   "outputs": [],
   "source": [
    "url='https://habrastorage.org/webt/rt/d9/dh/rtd9dhsmhwrdezeldzoqgijdg8a.jpeg'\n",
    "img=download_image(url)\n",
    "# print(img.mode)\n",
    "# img"
   ]
  },
  {
   "cell_type": "code",
   "execution_count": 25,
   "id": "d8663ba5-99fc-4afd-9c02-d046e7589900",
   "metadata": {
    "execution": {
     "iopub.execute_input": "2023-11-29T01:18:39.297166Z",
     "iopub.status.busy": "2023-11-29T01:18:39.296761Z",
     "iopub.status.idle": "2023-11-29T01:18:39.322196Z",
     "shell.execute_reply": "2023-11-29T01:18:39.321627Z",
     "shell.execute_reply.started": "2023-11-29T01:18:39.297142Z"
    },
    "tags": []
   },
   "outputs": [],
   "source": [
    "img=prepare_image(img,(150,150))"
   ]
  },
  {
   "cell_type": "code",
   "execution_count": 27,
   "id": "e356862a-f0a1-4663-8597-ab37bdeee4ce",
   "metadata": {
    "execution": {
     "iopub.execute_input": "2023-11-29T01:18:44.708092Z",
     "iopub.status.busy": "2023-11-29T01:18:44.707720Z",
     "iopub.status.idle": "2023-11-29T01:18:44.711534Z",
     "shell.execute_reply": "2023-11-29T01:18:44.710731Z",
     "shell.execute_reply.started": "2023-11-29T01:18:44.708069Z"
    },
    "tags": []
   },
   "outputs": [],
   "source": [
    "def preprocess_input(x):\n",
    "    return x / 255.0"
   ]
  },
  {
   "cell_type": "code",
   "execution_count": 30,
   "id": "63699ed5-39f2-482a-8aff-ddca310c805a",
   "metadata": {
    "execution": {
     "iopub.execute_input": "2023-11-29T01:19:23.604909Z",
     "iopub.status.busy": "2023-11-29T01:19:23.604536Z",
     "iopub.status.idle": "2023-11-29T01:19:23.608841Z",
     "shell.execute_reply": "2023-11-29T01:19:23.608097Z",
     "shell.execute_reply.started": "2023-11-29T01:19:23.604884Z"
    },
    "tags": []
   },
   "outputs": [],
   "source": [
    "x=np.array(img, dtype='float32')"
   ]
  },
  {
   "cell_type": "markdown",
   "id": "a9a6d3c6-40b5-4f51-a1f3-974623203135",
   "metadata": {},
   "source": [
    "## Q3 :Preprocessing"
   ]
  },
  {
   "cell_type": "code",
   "execution_count": 34,
   "id": "598d6167-c8b9-405b-a383-0603e3226eca",
   "metadata": {
    "execution": {
     "iopub.execute_input": "2023-11-29T01:25:42.575857Z",
     "iopub.status.busy": "2023-11-29T01:25:42.575498Z",
     "iopub.status.idle": "2023-11-29T01:25:42.581003Z",
     "shell.execute_reply": "2023-11-29T01:25:42.580294Z",
     "shell.execute_reply.started": "2023-11-29T01:25:42.575832Z"
    },
    "tags": []
   },
   "outputs": [
    {
     "data": {
      "text/plain": [
       "0.94509804"
      ]
     },
     "execution_count": 34,
     "metadata": {},
     "output_type": "execute_result"
    }
   ],
   "source": [
    "import numpy as np \n",
    "X=preprocess_input(np.array([x]))\n",
    "X[0,0,0,0]\n"
   ]
  },
  {
   "cell_type": "code",
   "execution_count": 32,
   "id": "fa4d535d-cb0c-4fb8-b561-a0064beb1de4",
   "metadata": {
    "execution": {
     "iopub.execute_input": "2023-11-29T01:19:32.476053Z",
     "iopub.status.busy": "2023-11-29T01:19:32.475662Z",
     "iopub.status.idle": "2023-11-29T01:19:32.486426Z",
     "shell.execute_reply": "2023-11-29T01:19:32.485660Z",
     "shell.execute_reply.started": "2023-11-29T01:19:32.476028Z"
    },
    "tags": []
   },
   "outputs": [],
   "source": [
    "intrepreter_hw.set_tensor(inputhw_index,X)\n",
    "intrepreter_hw.invoke()\n",
    "preds=intrepreter_hw.get_tensor(outputhw_index)"
   ]
  },
  {
   "cell_type": "markdown",
   "id": "a1ae1137-9efb-4abe-b933-26bb201b5d42",
   "metadata": {},
   "source": [
    "## Question4: Predictions"
   ]
  },
  {
   "cell_type": "code",
   "execution_count": 36,
   "id": "fca96f3c-d048-41b2-b085-3b3dc3a0229a",
   "metadata": {
    "execution": {
     "iopub.execute_input": "2023-11-29T01:26:22.184149Z",
     "iopub.status.busy": "2023-11-29T01:26:22.183496Z",
     "iopub.status.idle": "2023-11-29T01:26:22.188811Z",
     "shell.execute_reply": "2023-11-29T01:26:22.188061Z",
     "shell.execute_reply.started": "2023-11-29T01:26:22.184120Z"
    },
    "tags": []
   },
   "outputs": [
    {
     "data": {
      "text/plain": [
       "array([[0.65898407]], dtype=float32)"
      ]
     },
     "execution_count": 36,
     "metadata": {},
     "output_type": "execute_result"
    }
   ],
   "source": [
    "preds[0]"
   ]
  }
 ],
 "metadata": {
  "kernelspec": {
   "display_name": "saturn (Python 3)",
   "language": "python",
   "name": "python3"
  },
  "language_info": {
   "codemirror_mode": {
    "name": "ipython",
    "version": 3
   },
   "file_extension": ".py",
   "mimetype": "text/x-python",
   "name": "python",
   "nbconvert_exporter": "python",
   "pygments_lexer": "ipython3",
   "version": "3.9.15"
  }
 },
 "nbformat": 4,
 "nbformat_minor": 5
}
