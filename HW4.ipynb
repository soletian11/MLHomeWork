{
 "cells": [
  {
   "cell_type": "code",
   "execution_count": 87,
   "id": "956a786d",
   "metadata": {},
   "outputs": [],
   "source": [
    "import pandas as pd\n",
    "import numpy as np\n",
    "from sklearn.metrics  import auc,roc_auc_score\n",
    "from sklearn.feature_extraction import DictVectorizer\n",
    "from sklearn.linear_model import LogisticRegression\n",
    "from sklearn.metrics import accuracy_score\n",
    "from sklearn.model_selection import KFold\n",
    "import matplotlib.pyplot as plt\n",
    "import seaborn as sns\n",
    "import numbers\n"
   ]
  },
  {
   "cell_type": "code",
   "execution_count": 2,
   "id": "729ac7f2",
   "metadata": {},
   "outputs": [
    {
     "data": {
      "text/plain": [
       "Index(['Make', 'Model', 'Year', 'Engine Fuel Type', 'Engine HP',\n",
       "       'Engine Cylinders', 'Transmission Type', 'Driven_Wheels',\n",
       "       'Number of Doors', 'Market Category', 'Vehicle Size', 'Vehicle Style',\n",
       "       'highway MPG', 'city mpg', 'Popularity', 'MSRP'],\n",
       "      dtype='object')"
      ]
     },
     "execution_count": 2,
     "metadata": {},
     "output_type": "execute_result"
    }
   ],
   "source": [
    "df=pd.read_csv('data.csv')\n",
    "df.columns"
   ]
  },
  {
   "cell_type": "code",
   "execution_count": 3,
   "id": "1f8e15c4",
   "metadata": {},
   "outputs": [],
   "source": [
    "df.columns=df.columns.str.lower().str.replace(' ','_')"
   ]
  },
  {
   "cell_type": "code",
   "execution_count": 4,
   "id": "b99a2c36",
   "metadata": {},
   "outputs": [
    {
     "data": {
      "text/plain": [
       "Index(['make', 'model', 'year', 'engine_fuel_type', 'engine_hp',\n",
       "       'engine_cylinders', 'transmission_type', 'driven_wheels',\n",
       "       'number_of_doors', 'market_category', 'vehicle_size', 'vehicle_style',\n",
       "       'highway_mpg', 'city_mpg', 'popularity', 'msrp'],\n",
       "      dtype='object')"
      ]
     },
     "execution_count": 4,
     "metadata": {},
     "output_type": "execute_result"
    }
   ],
   "source": [
    "df.columns"
   ]
  },
  {
   "cell_type": "code",
   "execution_count": 5,
   "id": "569291cd",
   "metadata": {},
   "outputs": [
    {
     "data": {
      "text/html": [
       "<div>\n",
       "<style scoped>\n",
       "    .dataframe tbody tr th:only-of-type {\n",
       "        vertical-align: middle;\n",
       "    }\n",
       "\n",
       "    .dataframe tbody tr th {\n",
       "        vertical-align: top;\n",
       "    }\n",
       "\n",
       "    .dataframe thead th {\n",
       "        text-align: right;\n",
       "    }\n",
       "</style>\n",
       "<table border=\"1\" class=\"dataframe\">\n",
       "  <thead>\n",
       "    <tr style=\"text-align: right;\">\n",
       "      <th></th>\n",
       "      <th>0</th>\n",
       "      <th>1</th>\n",
       "    </tr>\n",
       "  </thead>\n",
       "  <tbody>\n",
       "    <tr>\n",
       "      <th>make</th>\n",
       "      <td>BMW</td>\n",
       "      <td>BMW</td>\n",
       "    </tr>\n",
       "    <tr>\n",
       "      <th>model</th>\n",
       "      <td>1 Series M</td>\n",
       "      <td>1 Series</td>\n",
       "    </tr>\n",
       "    <tr>\n",
       "      <th>year</th>\n",
       "      <td>2011</td>\n",
       "      <td>2011</td>\n",
       "    </tr>\n",
       "    <tr>\n",
       "      <th>engine_fuel_type</th>\n",
       "      <td>premium unleaded (required)</td>\n",
       "      <td>premium unleaded (required)</td>\n",
       "    </tr>\n",
       "    <tr>\n",
       "      <th>engine_hp</th>\n",
       "      <td>335.0</td>\n",
       "      <td>300.0</td>\n",
       "    </tr>\n",
       "    <tr>\n",
       "      <th>engine_cylinders</th>\n",
       "      <td>6.0</td>\n",
       "      <td>6.0</td>\n",
       "    </tr>\n",
       "    <tr>\n",
       "      <th>transmission_type</th>\n",
       "      <td>MANUAL</td>\n",
       "      <td>MANUAL</td>\n",
       "    </tr>\n",
       "    <tr>\n",
       "      <th>driven_wheels</th>\n",
       "      <td>rear wheel drive</td>\n",
       "      <td>rear wheel drive</td>\n",
       "    </tr>\n",
       "    <tr>\n",
       "      <th>number_of_doors</th>\n",
       "      <td>2.0</td>\n",
       "      <td>2.0</td>\n",
       "    </tr>\n",
       "    <tr>\n",
       "      <th>market_category</th>\n",
       "      <td>Factory Tuner,Luxury,High-Performance</td>\n",
       "      <td>Luxury,Performance</td>\n",
       "    </tr>\n",
       "    <tr>\n",
       "      <th>vehicle_size</th>\n",
       "      <td>Compact</td>\n",
       "      <td>Compact</td>\n",
       "    </tr>\n",
       "    <tr>\n",
       "      <th>vehicle_style</th>\n",
       "      <td>Coupe</td>\n",
       "      <td>Convertible</td>\n",
       "    </tr>\n",
       "    <tr>\n",
       "      <th>highway_mpg</th>\n",
       "      <td>26</td>\n",
       "      <td>28</td>\n",
       "    </tr>\n",
       "    <tr>\n",
       "      <th>city_mpg</th>\n",
       "      <td>19</td>\n",
       "      <td>19</td>\n",
       "    </tr>\n",
       "    <tr>\n",
       "      <th>popularity</th>\n",
       "      <td>3916</td>\n",
       "      <td>3916</td>\n",
       "    </tr>\n",
       "    <tr>\n",
       "      <th>msrp</th>\n",
       "      <td>46135</td>\n",
       "      <td>40650</td>\n",
       "    </tr>\n",
       "  </tbody>\n",
       "</table>\n",
       "</div>"
      ],
      "text/plain": [
       "                                                       0  \\\n",
       "make                                                 BMW   \n",
       "model                                         1 Series M   \n",
       "year                                                2011   \n",
       "engine_fuel_type             premium unleaded (required)   \n",
       "engine_hp                                          335.0   \n",
       "engine_cylinders                                     6.0   \n",
       "transmission_type                                 MANUAL   \n",
       "driven_wheels                           rear wheel drive   \n",
       "number_of_doors                                      2.0   \n",
       "market_category    Factory Tuner,Luxury,High-Performance   \n",
       "vehicle_size                                     Compact   \n",
       "vehicle_style                                      Coupe   \n",
       "highway_mpg                                           26   \n",
       "city_mpg                                              19   \n",
       "popularity                                          3916   \n",
       "msrp                                               46135   \n",
       "\n",
       "                                             1  \n",
       "make                                       BMW  \n",
       "model                                 1 Series  \n",
       "year                                      2011  \n",
       "engine_fuel_type   premium unleaded (required)  \n",
       "engine_hp                                300.0  \n",
       "engine_cylinders                           6.0  \n",
       "transmission_type                       MANUAL  \n",
       "driven_wheels                 rear wheel drive  \n",
       "number_of_doors                            2.0  \n",
       "market_category             Luxury,Performance  \n",
       "vehicle_size                           Compact  \n",
       "vehicle_style                      Convertible  \n",
       "highway_mpg                                 28  \n",
       "city_mpg                                    19  \n",
       "popularity                                3916  \n",
       "msrp                                     40650  "
      ]
     },
     "execution_count": 5,
     "metadata": {},
     "output_type": "execute_result"
    }
   ],
   "source": [
    "df.head(2).T"
   ]
  },
  {
   "cell_type": "code",
   "execution_count": 6,
   "id": "32725d44",
   "metadata": {},
   "outputs": [],
   "source": [
    "df=df[['make','model', 'year','engine_hp', 'engine_cylinders', 'transmission_type','vehicle_style',\n",
    "       'highway_mpg', 'city_mpg', 'msrp']]"
   ]
  },
  {
   "cell_type": "code",
   "execution_count": 7,
   "id": "3485ca40",
   "metadata": {},
   "outputs": [],
   "source": [
    "df=df.fillna(0)"
   ]
  },
  {
   "cell_type": "code",
   "execution_count": 8,
   "id": "420d98a5",
   "metadata": {},
   "outputs": [
    {
     "data": {
      "text/plain": [
       "make                 0\n",
       "model                0\n",
       "year                 0\n",
       "engine_hp            0\n",
       "engine_cylinders     0\n",
       "transmission_type    0\n",
       "vehicle_style        0\n",
       "highway_mpg          0\n",
       "city_mpg             0\n",
       "msrp                 0\n",
       "dtype: int64"
      ]
     },
     "execution_count": 8,
     "metadata": {},
     "output_type": "execute_result"
    }
   ],
   "source": [
    "df.isnull().sum()"
   ]
  },
  {
   "cell_type": "code",
   "execution_count": 9,
   "id": "965ecbc1",
   "metadata": {},
   "outputs": [
    {
     "data": {
      "text/plain": [
       "40594.737032063116"
      ]
     },
     "execution_count": 9,
     "metadata": {},
     "output_type": "execute_result"
    }
   ],
   "source": [
    "msrp_avg=df['msrp'].mean()\n",
    "msrp_avg"
   ]
  },
  {
   "cell_type": "code",
   "execution_count": 10,
   "id": "e6500d6f",
   "metadata": {},
   "outputs": [
    {
     "data": {
      "text/plain": [
       "0        1\n",
       "1        1\n",
       "2        0\n",
       "3        0\n",
       "4        0\n",
       "        ..\n",
       "11909    1\n",
       "11910    1\n",
       "11911    1\n",
       "11912    1\n",
       "11913    0\n",
       "Name: above_avg, Length: 11914, dtype: int64"
      ]
     },
     "execution_count": 10,
     "metadata": {},
     "output_type": "execute_result"
    }
   ],
   "source": [
    "# df.loc[:,'msrp']>=msrp_avg,\n",
    "df['above_avg'] = np.where(df['msrp']>=msrp_avg,1,0)\n",
    "# df['above_avg']=df['msrp'] >= msrp_avg\n",
    "# df['above_avg']=df['above_avg'].astype('int')\n",
    "df['above_avg']\n"
   ]
  },
  {
   "cell_type": "code",
   "execution_count": 11,
   "id": "80546aaf",
   "metadata": {},
   "outputs": [],
   "source": [
    "from sklearn.model_selection  import train_test_split"
   ]
  },
  {
   "cell_type": "code",
   "execution_count": 12,
   "id": "eb43815c",
   "metadata": {},
   "outputs": [],
   "source": [
    "df_train_full,df_test=train_test_split(df, test_size=0.2,random_state=1)\n",
    "df_train,df_val=train_test_split(df_train_full, test_size=0.25,random_state=1)\n",
    "df_train = df_train.reset_index(drop=True)\n",
    "df_val = df_val.reset_index(drop=True)\n",
    "df_test = df_test.reset_index(drop=True)\n"
   ]
  },
  {
   "cell_type": "code",
   "execution_count": 13,
   "id": "1a089d15",
   "metadata": {},
   "outputs": [
    {
     "data": {
      "text/html": [
       "<div>\n",
       "<style scoped>\n",
       "    .dataframe tbody tr th:only-of-type {\n",
       "        vertical-align: middle;\n",
       "    }\n",
       "\n",
       "    .dataframe tbody tr th {\n",
       "        vertical-align: top;\n",
       "    }\n",
       "\n",
       "    .dataframe thead th {\n",
       "        text-align: right;\n",
       "    }\n",
       "</style>\n",
       "<table border=\"1\" class=\"dataframe\">\n",
       "  <thead>\n",
       "    <tr style=\"text-align: right;\">\n",
       "      <th></th>\n",
       "      <th>make</th>\n",
       "      <th>model</th>\n",
       "      <th>year</th>\n",
       "      <th>engine_hp</th>\n",
       "      <th>engine_cylinders</th>\n",
       "      <th>transmission_type</th>\n",
       "      <th>vehicle_style</th>\n",
       "      <th>highway_mpg</th>\n",
       "      <th>city_mpg</th>\n",
       "      <th>msrp</th>\n",
       "      <th>above_avg</th>\n",
       "    </tr>\n",
       "  </thead>\n",
       "  <tbody>\n",
       "    <tr>\n",
       "      <th>0</th>\n",
       "      <td>Toyota</td>\n",
       "      <td>Highlander Hybrid</td>\n",
       "      <td>2016</td>\n",
       "      <td>280.0</td>\n",
       "      <td>6.0</td>\n",
       "      <td>AUTOMATIC</td>\n",
       "      <td>4dr SUV</td>\n",
       "      <td>28</td>\n",
       "      <td>27</td>\n",
       "      <td>50485</td>\n",
       "      <td>1</td>\n",
       "    </tr>\n",
       "    <tr>\n",
       "      <th>1</th>\n",
       "      <td>Chevrolet</td>\n",
       "      <td>Impala Limited</td>\n",
       "      <td>2014</td>\n",
       "      <td>300.0</td>\n",
       "      <td>6.0</td>\n",
       "      <td>AUTOMATIC</td>\n",
       "      <td>Sedan</td>\n",
       "      <td>30</td>\n",
       "      <td>18</td>\n",
       "      <td>26840</td>\n",
       "      <td>0</td>\n",
       "    </tr>\n",
       "    <tr>\n",
       "      <th>2</th>\n",
       "      <td>Buick</td>\n",
       "      <td>Regal</td>\n",
       "      <td>2016</td>\n",
       "      <td>259.0</td>\n",
       "      <td>4.0</td>\n",
       "      <td>AUTOMATIC</td>\n",
       "      <td>Sedan</td>\n",
       "      <td>27</td>\n",
       "      <td>19</td>\n",
       "      <td>36490</td>\n",
       "      <td>0</td>\n",
       "    </tr>\n",
       "    <tr>\n",
       "      <th>3</th>\n",
       "      <td>Volkswagen</td>\n",
       "      <td>CC</td>\n",
       "      <td>2015</td>\n",
       "      <td>280.0</td>\n",
       "      <td>6.0</td>\n",
       "      <td>AUTOMATED_MANUAL</td>\n",
       "      <td>Sedan</td>\n",
       "      <td>25</td>\n",
       "      <td>17</td>\n",
       "      <td>43575</td>\n",
       "      <td>1</td>\n",
       "    </tr>\n",
       "    <tr>\n",
       "      <th>4</th>\n",
       "      <td>Dodge</td>\n",
       "      <td>Grand Caravan</td>\n",
       "      <td>2016</td>\n",
       "      <td>283.0</td>\n",
       "      <td>6.0</td>\n",
       "      <td>AUTOMATIC</td>\n",
       "      <td>Passenger Minivan</td>\n",
       "      <td>25</td>\n",
       "      <td>17</td>\n",
       "      <td>22595</td>\n",
       "      <td>0</td>\n",
       "    </tr>\n",
       "    <tr>\n",
       "      <th>...</th>\n",
       "      <td>...</td>\n",
       "      <td>...</td>\n",
       "      <td>...</td>\n",
       "      <td>...</td>\n",
       "      <td>...</td>\n",
       "      <td>...</td>\n",
       "      <td>...</td>\n",
       "      <td>...</td>\n",
       "      <td>...</td>\n",
       "      <td>...</td>\n",
       "      <td>...</td>\n",
       "    </tr>\n",
       "    <tr>\n",
       "      <th>7143</th>\n",
       "      <td>Subaru</td>\n",
       "      <td>Impreza</td>\n",
       "      <td>2015</td>\n",
       "      <td>148.0</td>\n",
       "      <td>4.0</td>\n",
       "      <td>MANUAL</td>\n",
       "      <td>4dr Hatchback</td>\n",
       "      <td>33</td>\n",
       "      <td>24</td>\n",
       "      <td>20995</td>\n",
       "      <td>0</td>\n",
       "    </tr>\n",
       "    <tr>\n",
       "      <th>7144</th>\n",
       "      <td>Infiniti</td>\n",
       "      <td>QX50</td>\n",
       "      <td>2016</td>\n",
       "      <td>325.0</td>\n",
       "      <td>6.0</td>\n",
       "      <td>AUTOMATIC</td>\n",
       "      <td>4dr SUV</td>\n",
       "      <td>24</td>\n",
       "      <td>17</td>\n",
       "      <td>35850</td>\n",
       "      <td>0</td>\n",
       "    </tr>\n",
       "    <tr>\n",
       "      <th>7145</th>\n",
       "      <td>Honda</td>\n",
       "      <td>Fit</td>\n",
       "      <td>2017</td>\n",
       "      <td>130.0</td>\n",
       "      <td>4.0</td>\n",
       "      <td>AUTOMATIC</td>\n",
       "      <td>4dr Hatchback</td>\n",
       "      <td>37</td>\n",
       "      <td>32</td>\n",
       "      <td>20265</td>\n",
       "      <td>0</td>\n",
       "    </tr>\n",
       "    <tr>\n",
       "      <th>7146</th>\n",
       "      <td>Audi</td>\n",
       "      <td>200</td>\n",
       "      <td>1991</td>\n",
       "      <td>162.0</td>\n",
       "      <td>5.0</td>\n",
       "      <td>AUTOMATIC</td>\n",
       "      <td>Sedan</td>\n",
       "      <td>20</td>\n",
       "      <td>16</td>\n",
       "      <td>2000</td>\n",
       "      <td>0</td>\n",
       "    </tr>\n",
       "    <tr>\n",
       "      <th>7147</th>\n",
       "      <td>Infiniti</td>\n",
       "      <td>QX4</td>\n",
       "      <td>2003</td>\n",
       "      <td>240.0</td>\n",
       "      <td>6.0</td>\n",
       "      <td>AUTOMATIC</td>\n",
       "      <td>4dr SUV</td>\n",
       "      <td>18</td>\n",
       "      <td>14</td>\n",
       "      <td>36150</td>\n",
       "      <td>0</td>\n",
       "    </tr>\n",
       "  </tbody>\n",
       "</table>\n",
       "<p>7148 rows × 11 columns</p>\n",
       "</div>"
      ],
      "text/plain": [
       "            make              model  year  engine_hp  engine_cylinders  \\\n",
       "0         Toyota  Highlander Hybrid  2016      280.0               6.0   \n",
       "1      Chevrolet     Impala Limited  2014      300.0               6.0   \n",
       "2          Buick              Regal  2016      259.0               4.0   \n",
       "3     Volkswagen                 CC  2015      280.0               6.0   \n",
       "4          Dodge      Grand Caravan  2016      283.0               6.0   \n",
       "...          ...                ...   ...        ...               ...   \n",
       "7143      Subaru            Impreza  2015      148.0               4.0   \n",
       "7144    Infiniti               QX50  2016      325.0               6.0   \n",
       "7145       Honda                Fit  2017      130.0               4.0   \n",
       "7146        Audi                200  1991      162.0               5.0   \n",
       "7147    Infiniti                QX4  2003      240.0               6.0   \n",
       "\n",
       "     transmission_type      vehicle_style  highway_mpg  city_mpg   msrp  \\\n",
       "0            AUTOMATIC            4dr SUV           28        27  50485   \n",
       "1            AUTOMATIC              Sedan           30        18  26840   \n",
       "2            AUTOMATIC              Sedan           27        19  36490   \n",
       "3     AUTOMATED_MANUAL              Sedan           25        17  43575   \n",
       "4            AUTOMATIC  Passenger Minivan           25        17  22595   \n",
       "...                ...                ...          ...       ...    ...   \n",
       "7143            MANUAL      4dr Hatchback           33        24  20995   \n",
       "7144         AUTOMATIC            4dr SUV           24        17  35850   \n",
       "7145         AUTOMATIC      4dr Hatchback           37        32  20265   \n",
       "7146         AUTOMATIC              Sedan           20        16   2000   \n",
       "7147         AUTOMATIC            4dr SUV           18        14  36150   \n",
       "\n",
       "      above_avg  \n",
       "0             1  \n",
       "1             0  \n",
       "2             0  \n",
       "3             1  \n",
       "4             0  \n",
       "...         ...  \n",
       "7143          0  \n",
       "7144          0  \n",
       "7145          0  \n",
       "7146          0  \n",
       "7147          0  \n",
       "\n",
       "[7148 rows x 11 columns]"
      ]
     },
     "execution_count": 13,
     "metadata": {},
     "output_type": "execute_result"
    }
   ],
   "source": [
    "y_train=df_train.above_avg.values\n",
    "y_test=df_test.above_avg.values\n",
    "y_val=df_val.above_avg.values\n",
    "#df_train.drop(columns=['msrp','above_avg'],axis=1)\n",
    "df_train"
   ]
  },
  {
   "cell_type": "code",
   "execution_count": 14,
   "id": "09ab2981",
   "metadata": {},
   "outputs": [
    {
     "data": {
      "text/plain": [
       "(7148, 2383, 2383, 7148, 2383, 2383)"
      ]
     },
     "execution_count": 14,
     "metadata": {},
     "output_type": "execute_result"
    }
   ],
   "source": [
    "len(df_train),len(df_val),len(df_test),len(y_train),len(y_test),len(y_val)"
   ]
  },
  {
   "cell_type": "code",
   "execution_count": 15,
   "id": "5b0a8699",
   "metadata": {},
   "outputs": [],
   "source": [
    "categorical = ['make', 'model', 'transmission_type', 'vehicle_style']\n",
    "numerical=['year', 'engine_hp', 'engine_cylinders', 'highway_mpg','city_mpg']"
   ]
  },
  {
   "cell_type": "code",
   "execution_count": 160,
   "id": "866c2046",
   "metadata": {},
   "outputs": [],
   "source": [
    "X_train=df_train['year'].to_numpy()"
   ]
  },
  {
   "cell_type": "markdown",
   "id": "2e2bd191",
   "metadata": {},
   "source": [
    "### Question 1"
   ]
  },
  {
   "cell_type": "code",
   "execution_count": 17,
   "id": "3da7e3c8",
   "metadata": {},
   "outputs": [
    {
     "name": "stdout",
     "output_type": "stream",
     "text": [
      "year, 0.69\n",
      "engine_hp, 0.92\n",
      "engine_cylinders, 0.77\n",
      "highway_mpg, 0.63\n",
      "city_mpg, 0.67\n"
     ]
    }
   ],
   "source": [
    "for n in numerical:\n",
    "    auc=roc_auc_score(y_train,df_train[n].to_numpy())\n",
    "    if(auc<0.5):\n",
    "        auc=roc_auc_score(y_train, -df_train[n].to_numpy())\n",
    "    print('%s, %.2f' % (n, auc))"
   ]
  },
  {
   "cell_type": "markdown",
   "id": "1a387eb3",
   "metadata": {},
   "source": [
    "#### The answer for Q1 is engine_hp, 0.92 has the highest AUC."
   ]
  },
  {
   "cell_type": "markdown",
   "id": "91cb6e58",
   "metadata": {},
   "source": [
    "## Question 2\n"
   ]
  },
  {
   "cell_type": "code",
   "execution_count": 18,
   "id": "52a6213b",
   "metadata": {},
   "outputs": [],
   "source": [
    "train_dicts=df_train[categorical+numerical].to_dict(orient='records')\n",
    "val_dicts=df_val[categorical+numerical].to_dict(orient='records')\n",
    "test_dicts=df_test[categorical+numerical].to_dict(orient='records')\n",
    "\n",
    "\n",
    "dv=DictVectorizer(sparse=False)\n",
    "\n",
    "dv.fit(train_dicts)\n",
    "dv.fit(val_dicts)\n",
    "dv.fit(test_dicts)\n",
    "\n",
    "\n",
    "X_train=dv.transform(train_dicts)\n",
    "X_val=dv.transform(val_dicts)\n",
    "X_test=dv.transform(test_dicts)\n",
    "\n",
    "\n",
    "model=LogisticRegression(solver='liblinear', C=1.0, max_iter=1000)\n",
    "model.fit(X_train,y_train)\n",
    "\n",
    "y_pred = model.predict_proba(X_val)[:, 1]\n",
    "\n"
   ]
  },
  {
   "cell_type": "code",
   "execution_count": 161,
   "id": "170cde5a",
   "metadata": {},
   "outputs": [
    {
     "name": "stdout",
     "output_type": "stream",
     "text": [
      "0.978\n"
     ]
    }
   ],
   "source": [
    "auc=roc_auc_score(y_val, y_pred)\n",
    "#   print('%s, %.2f' % (n, auc))\n",
    "print('%.3f' % (auc))"
   ]
  },
  {
   "cell_type": "markdown",
   "id": "5d8c8471",
   "metadata": {},
   "source": [
    "#### Answer for Q2  having AUC is 0.978"
   ]
  },
  {
   "cell_type": "code",
   "execution_count": 20,
   "id": "fef5fdab",
   "metadata": {},
   "outputs": [
    {
     "data": {
      "text/plain": [
       "array([1, 0, 0, ..., 0, 1, 0])"
      ]
     },
     "execution_count": 20,
     "metadata": {},
     "output_type": "execute_result"
    }
   ],
   "source": [
    "y_val"
   ]
  },
  {
   "cell_type": "code",
   "execution_count": 21,
   "id": "43918afa",
   "metadata": {},
   "outputs": [],
   "source": [
    "scores=[]\n",
    "thresholds=np.arange(0,1,step=0.01)\n",
    "for threshold in thresholds:\n",
    "    actual_postive=(y_val==1)\n",
    "    actual_negative=(y_val==0)\n",
    "    predict_positive=(y_pred>=threshold)\n",
    "    predict_negative=(y_pred<=threshold)\n",
    "    \n",
    "    tp=(actual_postive & predict_positive).sum()\n",
    "    tn=(actual_negative & predict_negative).sum()\n",
    "    fp=(actual_negative & predict_positive).sum()\n",
    "    fn=(actual_postive & predict_negative).sum()\n",
    "    precision=tp/(tp+fp)\n",
    "    recall=tp/(tp+fn)\n",
    "    f1=(2*precision*recall)/(precision+recall)\n",
    "    scores.append((threshold,tp,tn,fp,fn,precision,recall,f1))\n",
    "    \n",
    "columns=['threshold','tp','tn','fp','fn','precision','recall','f1']\n",
    "df_scores=pd.DataFrame(scores,columns=columns)\n",
    "\n",
    "    \n",
    "    \n"
   ]
  },
  {
   "cell_type": "code",
   "execution_count": 22,
   "id": "c684037a",
   "metadata": {},
   "outputs": [
    {
     "data": {
      "text/html": [
       "<div>\n",
       "<style scoped>\n",
       "    .dataframe tbody tr th:only-of-type {\n",
       "        vertical-align: middle;\n",
       "    }\n",
       "\n",
       "    .dataframe tbody tr th {\n",
       "        vertical-align: top;\n",
       "    }\n",
       "\n",
       "    .dataframe thead th {\n",
       "        text-align: right;\n",
       "    }\n",
       "</style>\n",
       "<table border=\"1\" class=\"dataframe\">\n",
       "  <thead>\n",
       "    <tr style=\"text-align: right;\">\n",
       "      <th></th>\n",
       "      <th>threshold</th>\n",
       "      <th>tp</th>\n",
       "      <th>tn</th>\n",
       "      <th>fp</th>\n",
       "      <th>fn</th>\n",
       "      <th>precision</th>\n",
       "      <th>recall</th>\n",
       "      <th>f1</th>\n",
       "    </tr>\n",
       "  </thead>\n",
       "  <tbody>\n",
       "    <tr>\n",
       "      <th>0</th>\n",
       "      <td>0.00</td>\n",
       "      <td>654</td>\n",
       "      <td>0</td>\n",
       "      <td>1729</td>\n",
       "      <td>0</td>\n",
       "      <td>0.274444</td>\n",
       "      <td>1.000000</td>\n",
       "      <td>0.430688</td>\n",
       "    </tr>\n",
       "    <tr>\n",
       "      <th>1</th>\n",
       "      <td>0.01</td>\n",
       "      <td>652</td>\n",
       "      <td>953</td>\n",
       "      <td>776</td>\n",
       "      <td>2</td>\n",
       "      <td>0.456583</td>\n",
       "      <td>0.996942</td>\n",
       "      <td>0.626321</td>\n",
       "    </tr>\n",
       "    <tr>\n",
       "      <th>2</th>\n",
       "      <td>0.02</td>\n",
       "      <td>651</td>\n",
       "      <td>1091</td>\n",
       "      <td>638</td>\n",
       "      <td>3</td>\n",
       "      <td>0.505043</td>\n",
       "      <td>0.995413</td>\n",
       "      <td>0.670098</td>\n",
       "    </tr>\n",
       "    <tr>\n",
       "      <th>3</th>\n",
       "      <td>0.03</td>\n",
       "      <td>651</td>\n",
       "      <td>1174</td>\n",
       "      <td>555</td>\n",
       "      <td>3</td>\n",
       "      <td>0.539801</td>\n",
       "      <td>0.995413</td>\n",
       "      <td>0.700000</td>\n",
       "    </tr>\n",
       "    <tr>\n",
       "      <th>4</th>\n",
       "      <td>0.04</td>\n",
       "      <td>650</td>\n",
       "      <td>1237</td>\n",
       "      <td>492</td>\n",
       "      <td>4</td>\n",
       "      <td>0.569177</td>\n",
       "      <td>0.993884</td>\n",
       "      <td>0.723831</td>\n",
       "    </tr>\n",
       "    <tr>\n",
       "      <th>...</th>\n",
       "      <td>...</td>\n",
       "      <td>...</td>\n",
       "      <td>...</td>\n",
       "      <td>...</td>\n",
       "      <td>...</td>\n",
       "      <td>...</td>\n",
       "      <td>...</td>\n",
       "      <td>...</td>\n",
       "    </tr>\n",
       "    <tr>\n",
       "      <th>95</th>\n",
       "      <td>0.95</td>\n",
       "      <td>291</td>\n",
       "      <td>1727</td>\n",
       "      <td>2</td>\n",
       "      <td>363</td>\n",
       "      <td>0.993174</td>\n",
       "      <td>0.444954</td>\n",
       "      <td>0.614572</td>\n",
       "    </tr>\n",
       "    <tr>\n",
       "      <th>96</th>\n",
       "      <td>0.96</td>\n",
       "      <td>272</td>\n",
       "      <td>1728</td>\n",
       "      <td>1</td>\n",
       "      <td>382</td>\n",
       "      <td>0.996337</td>\n",
       "      <td>0.415902</td>\n",
       "      <td>0.586839</td>\n",
       "    </tr>\n",
       "    <tr>\n",
       "      <th>97</th>\n",
       "      <td>0.97</td>\n",
       "      <td>259</td>\n",
       "      <td>1728</td>\n",
       "      <td>1</td>\n",
       "      <td>395</td>\n",
       "      <td>0.996154</td>\n",
       "      <td>0.396024</td>\n",
       "      <td>0.566740</td>\n",
       "    </tr>\n",
       "    <tr>\n",
       "      <th>98</th>\n",
       "      <td>0.98</td>\n",
       "      <td>235</td>\n",
       "      <td>1729</td>\n",
       "      <td>0</td>\n",
       "      <td>419</td>\n",
       "      <td>1.000000</td>\n",
       "      <td>0.359327</td>\n",
       "      <td>0.528684</td>\n",
       "    </tr>\n",
       "    <tr>\n",
       "      <th>99</th>\n",
       "      <td>0.99</td>\n",
       "      <td>195</td>\n",
       "      <td>1729</td>\n",
       "      <td>0</td>\n",
       "      <td>459</td>\n",
       "      <td>1.000000</td>\n",
       "      <td>0.298165</td>\n",
       "      <td>0.459364</td>\n",
       "    </tr>\n",
       "  </tbody>\n",
       "</table>\n",
       "<p>100 rows × 8 columns</p>\n",
       "</div>"
      ],
      "text/plain": [
       "    threshold   tp    tn    fp   fn  precision    recall        f1\n",
       "0        0.00  654     0  1729    0   0.274444  1.000000  0.430688\n",
       "1        0.01  652   953   776    2   0.456583  0.996942  0.626321\n",
       "2        0.02  651  1091   638    3   0.505043  0.995413  0.670098\n",
       "3        0.03  651  1174   555    3   0.539801  0.995413  0.700000\n",
       "4        0.04  650  1237   492    4   0.569177  0.993884  0.723831\n",
       "..        ...  ...   ...   ...  ...        ...       ...       ...\n",
       "95       0.95  291  1727     2  363   0.993174  0.444954  0.614572\n",
       "96       0.96  272  1728     1  382   0.996337  0.415902  0.586839\n",
       "97       0.97  259  1728     1  395   0.996154  0.396024  0.566740\n",
       "98       0.98  235  1729     0  419   1.000000  0.359327  0.528684\n",
       "99       0.99  195  1729     0  459   1.000000  0.298165  0.459364\n",
       "\n",
       "[100 rows x 8 columns]"
      ]
     },
     "execution_count": 22,
     "metadata": {},
     "output_type": "execute_result"
    }
   ],
   "source": [
    "df_scores"
   ]
  },
  {
   "cell_type": "code",
   "execution_count": 162,
   "id": "8f4f8aae",
   "metadata": {},
   "outputs": [
    {
     "data": {
      "image/png": "[encoded data removed]",
      "text/plain": [
       "<Figure size 432x288 with 1 Axes>"
      ]
     },
     "metadata": {
      "needs_background": "light"
     },
     "output_type": "display_data"
    }
   ],
   "source": [
    "plt.plot(thresholds, df_scores['precision'],label='precision')\n",
    "plt.plot(thresholds, df_scores['recall'],label='recall')\n",
    "plt.legend()\n",
    "plt.vlines(0.48, 0, 1, color='green')\n",
    "plt.show()"
   ]
  },
  {
   "cell_type": "markdown",
   "id": "ef7003a7",
   "metadata": {},
   "source": [
    "#### Answer for Q4 is 0.48 as both curves intersect"
   ]
  },
  {
   "cell_type": "markdown",
   "id": "974f58e1",
   "metadata": {},
   "source": [
    "## Q4 F1 Score Calculation"
   ]
  },
  {
   "cell_type": "code",
   "execution_count": 24,
   "id": "2ede7a74",
   "metadata": {},
   "outputs": [
    {
     "data": {
      "text/plain": [
       "50    0.5\n",
       "Name: threshold, dtype: float64"
      ]
     },
     "execution_count": 24,
     "metadata": {},
     "output_type": "execute_result"
    }
   ],
   "source": [
    "f1_max=df_scores['f1'].max()\n",
    "f1_max\n",
    "max_row=df_scores[df_scores['f1'] == f1_max]\n",
    "max_row['threshold']"
   ]
  },
  {
   "cell_type": "markdown",
   "id": "9d015921",
   "metadata": {},
   "source": [
    "###### The answer for Q4 is  having threshold is 0.50\n"
   ]
  },
  {
   "cell_type": "markdown",
   "id": "da463080",
   "metadata": {},
   "source": [
    "## Q5:Use the KFold class from Scikit-Learn to evaluate our model on 5 different folds:\n"
   ]
  },
  {
   "cell_type": "code",
   "execution_count": 44,
   "id": "97ae9091",
   "metadata": {},
   "outputs": [],
   "source": [
    "kf = KFold(n_splits=5,shuffle=True, random_state=1)\n",
    "\n"
   ]
  },
  {
   "cell_type": "code",
   "execution_count": 26,
   "id": "7ffda4af",
   "metadata": {},
   "outputs": [
    {
     "data": {
      "text/plain": [
       "<generator object _BaseKFold.split at 0x7f9d54df8900>"
      ]
     },
     "execution_count": 26,
     "metadata": {},
     "output_type": "execute_result"
    }
   ],
   "source": [
    "(kf.split(X))"
   ]
  },
  {
   "cell_type": "code",
   "execution_count": 36,
   "id": "b0e8a1b6",
   "metadata": {},
   "outputs": [
    {
     "data": {
      "text/plain": [
       "9531"
      ]
     },
     "execution_count": 36,
     "metadata": {},
     "output_type": "execute_result"
    }
   ],
   "source": [
    "len(df_train_full)"
   ]
  },
  {
   "cell_type": "code",
   "execution_count": 151,
   "id": "93c202d8",
   "metadata": {},
   "outputs": [],
   "source": [
    "def Q5AND6(p_cvalue):\n",
    "\n",
    "    scores=[]\n",
    "\n",
    "    for i, (train_index, val_index) in enumerate(kf.split(df_train_full)):   \n",
    "        df_train=df_train_full.iloc[train_index]\n",
    "        df_val=df_train_full.iloc[val_index]\n",
    "        y_train=df_train_full.above_avg.values   \n",
    "        y_val=df_val.above_avg.values\n",
    "        train_dicts=df_train_full[categorical+numerical].to_dict(orient='records')\n",
    "        val_dicts=df_val[categorical+numerical].to_dict(orient='records')\n",
    "\n",
    "        dv=DictVectorizer(sparse=False)\n",
    "\n",
    "        dv.fit(train_dicts)\n",
    "        dv.fit(val_dicts)\n",
    "\n",
    "        X_train=dv.transform(train_dicts)\n",
    "        X_val=dv.transform(val_dicts)       \n",
    "               \n",
    "        model=LogisticRegression(solver='liblinear', C=p_cvalue, max_iter=1000)\n",
    "        model.fit(X_train,y_train)\n",
    "\n",
    "        y_pred = model.predict_proba(X_val)[:, 1]\n",
    "\n",
    "        auc=roc_auc_score(y_val, y_pred)\n",
    "        scores.append((auc))\n",
    "    std=np.std(scores)\n",
    "    mean=np.std(scores)\n",
    "    print(f'The Standard Devaition and Mean of AUC scores of Fold {p_cvalue}  are  :{std:.3f},{mean:.3f}')            \n",
    "    return ((p_cvalue, std,mean ))\n",
    "   \n",
    "#         return scores\n",
    "  \n",
    "#        \n",
    "\n",
    "    \n",
    "    \n",
    "    \n",
    "    \n",
    "    "
   ]
  },
  {
   "cell_type": "code",
   "execution_count": 157,
   "id": "108d833e",
   "metadata": {},
   "outputs": [
    {
     "name": "stdout",
     "output_type": "stream",
     "text": [
      "The Standard Devaition and Mean of AUC scores of Fold 1.0  are  :0.004,0.004\n"
     ]
    }
   ],
   "source": [
    "ls=[ Q5AND6(i) for i in [1.0]]\n"
   ]
  },
  {
   "cell_type": "markdown",
   "id": "0df8d772",
   "metadata": {},
   "source": [
    "#### The answer of SD for C=1.0 is 0.3"
   ]
  },
  {
   "cell_type": "markdown",
   "id": "4ffd078c",
   "metadata": {},
   "source": [
    "## Q6 :Different C's usage on LR Model"
   ]
  },
  {
   "cell_type": "code",
   "execution_count": 159,
   "id": "b09ca678",
   "metadata": {},
   "outputs": [
    {
     "name": "stdout",
     "output_type": "stream",
     "text": [
      "The Standard Devaition and Mean of AUC scores of Fold 0.01  are  :0.002,0.002\n",
      "The Standard Devaition and Mean of AUC scores of Fold 0.1  are  :0.003,0.003\n",
      "The Standard Devaition and Mean of AUC scores of Fold 0.5  are  :0.003,0.003\n",
      "The Standard Devaition and Mean of AUC scores of Fold 10  are  :0.005,0.005\n"
     ]
    },
    {
     "data": {
      "text/plain": [
       "[(0.01, 0.002026156051383827, 0.002026156051383827),\n",
       " (0.1, 0.0025523402559104146, 0.0025523402559104146),\n",
       " (0.5, 0.0029449242670592434, 0.0029449242670592434),\n",
       " (10, 0.004736374413855517, 0.004736374413855517)]"
      ]
     },
     "execution_count": 159,
     "metadata": {},
     "output_type": "execute_result"
    }
   ],
   "source": [
    "ls=[ Q5AND6(i) for i in [0.01, 0.1, 0.5, 10]]\n",
    "ls\n"
   ]
  },
  {
   "cell_type": "markdown",
   "id": "5fc798d1",
   "metadata": {},
   "source": [
    "#### C=10 has best mean score"
   ]
  }
 ],
 "metadata": {
  "kernelspec": {
   "display_name": "Python 3 (ipykernel)",
   "language": "python",
   "name": "python3"
  },
  "language_info": {
   "codemirror_mode": {
    "name": "ipython",
    "version": 3
   },
   "file_extension": ".py",
   "mimetype": "text/x-python",
   "name": "python",
   "nbconvert_exporter": "python",
   "pygments_lexer": "ipython3",
   "version": "3.9.7"
  }
 },
 "nbformat": 4,
 "nbformat_minor": 5
}
